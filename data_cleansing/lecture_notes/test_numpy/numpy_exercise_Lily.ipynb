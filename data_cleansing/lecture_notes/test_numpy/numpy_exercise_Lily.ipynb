{
 "cells": [
  {
   "cell_type": "markdown",
   "id": "df5c8580",
   "metadata": {},
   "source": [
    "# NumPy Exercises"
   ]
  },
  {
   "cell_type": "markdown",
   "id": "23b66758",
   "metadata": {},
   "source": [
    "## 1. Import numpy as np and print the version number."
   ]
  },
  {
   "cell_type": "code",
   "execution_count": 4,
   "id": "13b2d72e",
   "metadata": {},
   "outputs": [
    {
     "name": "stdout",
     "output_type": "stream",
     "text": [
      "2.0.2\n"
     ]
    }
   ],
   "source": [
    "import numpy as np\n",
    "print(np.__version__)\n"
   ]
  },
  {
   "cell_type": "markdown",
   "id": "2a8309f3",
   "metadata": {},
   "source": [
    "## 2. Create a 1D array of numbers from 0 to 9 \n",
    "$> array([0, 1, 2, 3, 4, 5, 6, 7, 8, 9])"
   ]
  },
  {
   "cell_type": "code",
   "execution_count": 6,
   "id": "c7004bc9",
   "metadata": {},
   "outputs": [
    {
     "name": "stdout",
     "output_type": "stream",
     "text": [
      "[0 1 2 3 4 5 6 7 8 9]\n"
     ]
    }
   ],
   "source": [
    "arr= np.array(range(10))\n",
    "print(arr)"
   ]
  },
  {
   "cell_type": "markdown",
   "id": "14596c66",
   "metadata": {},
   "source": [
    "## 3. Create a 3×3 numpy boolean array of all True’s \n",
    "<pre>\n",
    "array([[ True,  True,  True],\n",
    "       [ True,  True,  True],\n",
    "       [ True,  True,  True]], dtype=bool)  </pre>"
   ]
  },
  {
   "cell_type": "code",
   "execution_count": 68,
   "id": "ddc89020",
   "metadata": {},
   "outputs": [
    {
     "data": {
      "text/plain": [
       "array([[ True,  True,  True],\n",
       "       [ True,  True,  True],\n",
       "       [ True,  True,  True]])"
      ]
     },
     "execution_count": 68,
     "metadata": {},
     "output_type": "execute_result"
    }
   ],
   "source": [
    "np.ones((3,3), dtype=bool)\n"
   ]
  },
  {
   "cell_type": "markdown",
   "id": "1999c0ce",
   "metadata": {},
   "source": [
    "## 4. Extract items that satisfy a given condition from 1D array\n",
    "<pre>\n",
    "Extract all odd numbers from arr\n",
    "\n",
    "Given that:\n",
    "arr = np.array([0, 1, 2, 3, 4, 5, 6, 7, 8, 9])\n",
    "\n",
    "Desired output:\n",
    "array([1, 3, 5, 7, 9]) </pre>"
   ]
  },
  {
   "cell_type": "code",
   "execution_count": 24,
   "id": "22cb8348",
   "metadata": {},
   "outputs": [
    {
     "data": {
      "text/plain": [
       "array([1, 3, 5, 7, 9])"
      ]
     },
     "execution_count": 24,
     "metadata": {},
     "output_type": "execute_result"
    }
   ],
   "source": [
    "arr= np.array(range(10))\n",
    "arr[arr%2!= 0]\n"
   ]
  },
  {
   "cell_type": "markdown",
   "id": "a07d6a5d",
   "metadata": {},
   "source": [
    "## 5. Replace items that satisfy a condition with another value in numpy array\n",
    "<pre>\n",
    "Replace all odd numbers in arr with -1\n",
    "\n",
    "Given Input (in #4):\n",
    "arr = np.array([0, 1, 2, 3, 4, 5, 6, 7, 8, 9])\n",
    "\n",
    "Desired Output:\n",
    "array([ 0, -1,  2, -1,  4, -1,  6, -1,  8, -1]) </pre>"
   ]
  },
  {
   "cell_type": "code",
   "execution_count": 94,
   "id": "f0101a34",
   "metadata": {},
   "outputs": [
    {
     "data": {
      "text/plain": [
       "array([ 0, -1,  2, -1,  4, -1,  6, -1,  8, -1])"
      ]
     },
     "execution_count": 94,
     "metadata": {},
     "output_type": "execute_result"
    }
   ],
   "source": [
    "arr=np.array(range(10))\n",
    "arr[arr%2==1]=-1\n",
    "arr"
   ]
  },
  {
   "cell_type": "markdown",
   "id": "5a861755",
   "metadata": {},
   "source": [
    "##  6. Replace items that satisfy a condition without affecting the original array, and use np.where() function, and store value in arr2\n",
    "<pre>\n",
    "Replace all odd numbers in arr with -1 without changing arr\n",
    "\n",
    "Given Input:\n",
    "arr = np.arange(10)\n",
    "array([0, 1, 2, 3, 4, 5, 6, 7, 8, 9])\n",
    "\n",
    "Desired Output:\n",
    "arr2\n",
    "array([ 0, -1,  2, -1,  4, -1,  6, -1,  8, -1])\n",
    "</pre>"
   ]
  },
  {
   "cell_type": "code",
   "execution_count": 38,
   "id": "e9ac724c",
   "metadata": {},
   "outputs": [
    {
     "data": {
      "text/plain": [
       "array([ 0, -1,  2, -1,  4, -1,  6, -1,  8, -1])"
      ]
     },
     "execution_count": 38,
     "metadata": {},
     "output_type": "execute_result"
    }
   ],
   "source": [
    "arr=np.array(range(10))\n",
    "np.where(arr%2 !=0, -1, arr)"
   ]
  },
  {
   "cell_type": "markdown",
   "id": "9df4d00b",
   "metadata": {},
   "source": [
    "## 7. Reshape an array\n",
    "Convert a 1D array to a 2D array with 2 rows\n",
    "<pre>\n",
    "Given Input:\n",
    "np.arange(10)\n",
    "array([ 0, 1, 2, 3, 4, 5, 6, 7, 8, 9])\n",
    "\n",
    "Desired Output:\n",
    "array([[0, 1, 2, 3, 4],\n",
    "       [5, 6, 7, 8, 9]])</pre>"
   ]
  },
  {
   "cell_type": "code",
   "execution_count": 47,
   "id": "be6bffa4",
   "metadata": {},
   "outputs": [
    {
     "name": "stdout",
     "output_type": "stream",
     "text": [
      "[[0 1 2 3 4]\n",
      " [5 6 7 8 9]]\n"
     ]
    }
   ],
   "source": [
    "arr2=np.arange(10).reshape((2,5))\n",
    "print(arr2)\n"
   ]
  },
  {
   "cell_type": "markdown",
   "id": "054f2aee",
   "metadata": {},
   "source": [
    "## 8. Stack two arrays vertically\n",
    "<pre>\n",
    "Stack arrays a and b vertically\n",
    "\n",
    "Given Input:\n",
    "a = np.arange(10).reshape(2,-1)\n",
    "b = np.repeat(1, 10).reshape(2,-1)\n",
    "\n",
    "Desired Output:\n",
    "array([[0, 1, 2, 3, 4],\n",
    "      [5, 6, 7, 8, 9],\n",
    "      [1, 1, 1, 1, 1],\n",
    "      [1, 1, 1, 1, 1]])</pre>"
   ]
  },
  {
   "cell_type": "code",
   "execution_count": 51,
   "id": "35d1dfb9",
   "metadata": {},
   "outputs": [
    {
     "data": {
      "text/plain": [
       "array([[0, 1, 2, 3, 4],\n",
       "       [5, 6, 7, 8, 9],\n",
       "       [1, 1, 1, 1, 1],\n",
       "       [1, 1, 1, 1, 1]])"
      ]
     },
     "execution_count": 51,
     "metadata": {},
     "output_type": "execute_result"
    }
   ],
   "source": [
    "a=np.arange(10).reshape(2, -1)\n",
    "b= np.repeat(1,10).reshape(2,-1)\n",
    "\n",
    "np.concatenate((a, b), axis=0)"
   ]
  },
  {
   "cell_type": "markdown",
   "id": "c4723737",
   "metadata": {},
   "source": [
    "## 9. Stack two arrays horizontally\n",
    "<pre>Stack the arrays a and b horizontally.\n",
    "\n",
    "Given Input:\n",
    "a = np.arange(10).reshape(2,-1)\n",
    "b = np.repeat(1, 10).reshape(2,-1)\n",
    "\n",
    "Desired Output:\n",
    "array([[0, 1, 2, 3, 4, 1, 1, 1, 1, 1],\n",
    "      [5, 6, 7, 8, 9, 1, 1, 1, 1, 1]]) </pre>"
   ]
  },
  {
   "cell_type": "code",
   "execution_count": 52,
   "id": "d02ed78f",
   "metadata": {},
   "outputs": [
    {
     "data": {
      "text/plain": [
       "array([[0, 1, 2, 3, 4, 1, 1, 1, 1, 1],\n",
       "       [5, 6, 7, 8, 9, 1, 1, 1, 1, 1]])"
      ]
     },
     "execution_count": 52,
     "metadata": {},
     "output_type": "execute_result"
    }
   ],
   "source": [
    "a = np.arange(10).reshape(2,-1)\n",
    "b = np.repeat(1, 10).reshape(2,-1)\n",
    "np.concatenate((a, b), axis=1)"
   ]
  },
  {
   "cell_type": "markdown",
   "id": "1ad27f55",
   "metadata": {},
   "source": [
    "## 10. Generate custom sequences in numpy without hardcoding\n",
    "<pre>Create the following pattern without hardcoding. \n",
    "Use only numpy functions and the below input array arr\n",
    "\n",
    "Given Input:\n",
    "arr = np.array([1,2,3])\n",
    "\n",
    "Desired Output:\n",
    "array([1, 1, 1, 2, 2, 2, 3, 3, 3, 1, 2, 3, 1, 2, 3, 1, 2, 3])</pre>"
   ]
  },
  {
   "cell_type": "code",
   "execution_count": 69,
   "id": "58f68501",
   "metadata": {},
   "outputs": [
    {
     "data": {
      "text/plain": [
       "array([1, 1, 1, 2, 2, 2, 3, 3, 3, 1, 2, 3, 1, 2, 3, 1, 2, 3])"
      ]
     },
     "execution_count": 69,
     "metadata": {},
     "output_type": "execute_result"
    }
   ],
   "source": [
    "arr = np.array([1,2,3])\n",
    "np.concatenate([np.repeat(arr,3), np.tile(arr,3)],axis = 0)\n"
   ]
  },
  {
   "cell_type": "markdown",
   "id": "9bb9b33f",
   "metadata": {},
   "source": [
    "## 11. Get the common items between two python numpy arrays\n",
    "<pre>\n",
    "Get the common items between a and b\n",
    "\n",
    "Given Input:\n",
    "a = np.array([1,2,3,2,3,4,3,4,5,6])\n",
    "b = np.array([7,2,10,2,7,4,9,4,9,8])\n",
    "\n",
    "Desired Output:\n",
    "array([2, 4])</pre>"
   ]
  },
  {
   "cell_type": "code",
   "execution_count": 71,
   "id": "c551bd9a",
   "metadata": {},
   "outputs": [
    {
     "data": {
      "text/plain": [
       "array([2, 4])"
      ]
     },
     "execution_count": 71,
     "metadata": {},
     "output_type": "execute_result"
    }
   ],
   "source": [
    "a = np.array([1,2,3,2,3,4,3,4,5,6])\n",
    "b = np.array([7,2,10,2,7,4,9,4,9,8])\n",
    "np.intersect1d(a,b)"
   ]
  },
  {
   "cell_type": "markdown",
   "id": "6bab1ebd",
   "metadata": {},
   "source": [
    "## 12. Remove from one array those items that exist in another\n",
    "<pre>From array a remove all items present in array b\n",
    "\n",
    "Given Input:\n",
    "a = np.array([1,2,3,4,5])\n",
    "b = np.array([5,6,7,8,9])\n",
    "\n",
    "Desired Output:\n",
    "array([1,2,3,4])"
   ]
  },
  {
   "cell_type": "code",
   "execution_count": 72,
   "id": "ef35d06d",
   "metadata": {},
   "outputs": [
    {
     "data": {
      "text/plain": [
       "array([1, 2, 3, 4])"
      ]
     },
     "execution_count": 72,
     "metadata": {},
     "output_type": "execute_result"
    }
   ],
   "source": [
    "a = np.array([1,2,3,4,5])\n",
    "b = np.array([5,6,7,8,9])\n",
    "np.setdiff1d(a,b)"
   ]
  },
  {
   "cell_type": "markdown",
   "id": "321be677",
   "metadata": {},
   "source": [
    "## 13. Get the positions where elements of two arrays match\n",
    "<pre>Get the positions where elements of a and b match\n",
    "\n",
    "Given Input:\n",
    "a = np.array([1,2,3,2,3,4,3,4,5,6])\n",
    "b = np.array([7,2,10,2,7,4,9,4,9,8])\n",
    "\n",
    "Desired Output:\n",
    "(array([1, 3, 5, 7]),)</pre>"
   ]
  },
  {
   "cell_type": "code",
   "execution_count": 73,
   "id": "d94e5e75",
   "metadata": {},
   "outputs": [
    {
     "data": {
      "text/plain": [
       "(array([1, 3, 5, 7]),)"
      ]
     },
     "execution_count": 73,
     "metadata": {},
     "output_type": "execute_result"
    }
   ],
   "source": [
    "a = np.array([1,2,3,2,3,4,3,4,5,6])\n",
    "b = np.array([7,2,10,2,7,4,9,4,9,8])\n",
    "np.where(a==b)"
   ]
  },
  {
   "cell_type": "markdown",
   "id": "202352b6",
   "metadata": {},
   "source": [
    "## 14. Extract all numbers between a given range from a numpy array\n",
    "<pre>Get all items between 5 and 10 from a.\n",
    "\n",
    "Given Input:\n",
    "a = np.array([2, 6, 1, 9, 10, 3, 27])\n",
    "\n",
    "Desired Output:\n",
    "array([6, 9, 10]) \n",
    "or\n",
    "[6, 9, 10]\n",
    "</pre>"
   ]
  },
  {
   "cell_type": "code",
   "execution_count": 80,
   "id": "84957f96",
   "metadata": {},
   "outputs": [
    {
     "data": {
      "text/plain": [
       "array([ 6,  9, 10])"
      ]
     },
     "execution_count": 80,
     "metadata": {},
     "output_type": "execute_result"
    }
   ],
   "source": [
    "a = np.array([2, 6, 1, 9, 10, 3, 27])\n",
    "a[(a>=5) & (a<=10)]"
   ]
  },
  {
   "cell_type": "markdown",
   "id": "53c9a0a2",
   "metadata": {},
   "source": [
    "## 15. Make a python function that handles scalars to work on numpy arrays\n",
    "<pre>Convert the function maxx that works on two scalars, to work on two arrays.\n",
    "\n",
    "Given Input:\n",
    "def maxx(x, y):\n",
    "    \"\"\"Get the maximum of two items\"\"\"\n",
    "    if x >= y:\n",
    "        return x\n",
    "    else:\n",
    "        return y\n",
    "\n",
    "maxx(1, 5)\n",
    "$> 5\n",
    "\n",
    "Desired Output:\n",
    "a = np.array([5, 7, 9, 8, 6, 4, 5])\n",
    "b = np.array([6, 3, 4, 8, 9, 7, 1])\n",
    "pair_max(a, b)\n",
    "$> array([6, 7, 9, 8, 9, 7, 5])\n",
    "or\n",
    "[6, 7, 9, 8, 9, 7, 5]\n",
    "</pre>"
   ]
  },
  {
   "cell_type": "code",
   "execution_count": 95,
   "id": "db3152ff",
   "metadata": {},
   "outputs": [
    {
     "data": {
      "text/plain": [
       "array([6, 7, 9, 8, 9, 7, 5])"
      ]
     },
     "execution_count": 95,
     "metadata": {},
     "output_type": "execute_result"
    }
   ],
   "source": [
    "\n",
    "def maxx(x, y):\n",
    "    \"\"\"Get the maximum of two items\"\"\"\n",
    "    if x >= y:\n",
    "        return x\n",
    "    else:\n",
    "        return y\n",
    "\n",
    "maxx(1, 5)\n",
    "a = np.array([5, 7, 9, 8, 6, 4, 5])\n",
    "b = np.array([6, 3, 4, 8, 9, 7, 1])\n",
    "pairing= np.vectorize(maxx)\n",
    "pairing(a,b)"
   ]
  },
  {
   "cell_type": "markdown",
   "id": "b35e905d",
   "metadata": {},
   "source": [
    "## 16. Swap two columns in a 2d numpy array\n",
    "<pre>Swap columns 0 and 1 in the array arr.\n",
    "\n",
    "Given Input:\n",
    "arr = np.arange(9).reshape(3,3)\n",
    "arr\n",
    "array([[0, 1, 2],\n",
    "       [3, 4, 5],\n",
    "       [6, 7, 8]])\n",
    "\n",
    "Desired Output:       \n",
    "array([[1, 0, 2],\n",
    "       [4, 3, 5],\n",
    "       [7, 6, 8]])       \n",
    "       </pre>"
   ]
  },
  {
   "cell_type": "code",
   "execution_count": 88,
   "id": "e3680a25",
   "metadata": {},
   "outputs": [
    {
     "data": {
      "text/plain": [
       "array([[1, 0, 2],\n",
       "       [4, 3, 5],\n",
       "       [7, 6, 8]])"
      ]
     },
     "execution_count": 88,
     "metadata": {},
     "output_type": "execute_result"
    }
   ],
   "source": [
    "arr = np.arange(9).reshape(3,3)\n",
    "arr [:,[1,0,2]]"
   ]
  },
  {
   "cell_type": "markdown",
   "id": "256cfc13",
   "metadata": {},
   "source": [
    "## 17. Swap two rows in a 2d numpy array\n",
    "<pre>Swap rows 0 and 2 in the array arr:\n",
    "\n",
    "Given input:\n",
    "arr = np.arange(9).reshape(3,3)\n",
    "arr\n",
    "array([[0, 1, 2],\n",
    "       [3, 4, 5],\n",
    "       [6, 7, 8]])\n",
    "       \n",
    "Desired Output:\n",
    "array([[6, 7, 8],\n",
    "       [3, 4, 5],\n",
    "       [0, 1, 2]])\n",
    "</pre>"
   ]
  },
  {
   "cell_type": "code",
   "execution_count": 89,
   "id": "70d1b39d",
   "metadata": {},
   "outputs": [
    {
     "data": {
      "text/plain": [
       "array([[6, 7, 8],\n",
       "       [3, 4, 5],\n",
       "       [0, 1, 2]])"
      ]
     },
     "execution_count": 89,
     "metadata": {},
     "output_type": "execute_result"
    }
   ],
   "source": [
    "arr = np.arange(9).reshape(3,3)\n",
    "arr[[2,1,0],:]"
   ]
  },
  {
   "cell_type": "markdown",
   "id": "a6bb8a1b",
   "metadata": {},
   "source": [
    "## 18. Reverse the rows of a 2D array\n",
    "<pre>Reverse the rows of a 2D array arr.\n",
    "Given Input:\n",
    "arr = np.arange(12).reshape(4,3)\n",
    "array([[ 0,  1,  2],\n",
    "       [ 3,  4,  5],\n",
    "       [ 6,  7,  8],\n",
    "       [ 9, 10, 11]])\n",
    "\n",
    "Desired Output:\n",
    "array([[ 9, 10, 11],\n",
    "       [ 6,  7,  8],\n",
    "       [ 3,  4,  5],\n",
    "       [ 0,  1,  2]])    \n",
    "</pre>"
   ]
  },
  {
   "cell_type": "code",
   "execution_count": 90,
   "id": "579a1829",
   "metadata": {},
   "outputs": [
    {
     "data": {
      "text/plain": [
       "array([[ 9, 10, 11],\n",
       "       [ 6,  7,  8],\n",
       "       [ 3,  4,  5],\n",
       "       [ 0,  1,  2]])"
      ]
     },
     "execution_count": 90,
     "metadata": {},
     "output_type": "execute_result"
    }
   ],
   "source": [
    "arr = np.arange(12).reshape(4,3)\n",
    "arr[[3,2,1,0],:]"
   ]
  },
  {
   "cell_type": "markdown",
   "id": "ca103ee7",
   "metadata": {},
   "source": [
    "## 19. Reverse the columns of a 2D array\n",
    "<pre>Reverse the columns of a 2D array arr.\n",
    "Given Input:\n",
    "arr = np.arange(15).reshape(3,5)\n",
    "array([[ 0,  1,  2,  3,  4],\n",
    "       [ 5,  6,  7,  8,  9],\n",
    "       [10, 11, 12, 13, 14]])\n",
    "\n",
    "Desired Output:\n",
    "array([[ 4,  3,  2,  1,  0],\n",
    "       [ 9,  8,  7,  6,  5],\n",
    "       [14, 13, 12, 11, 10]])\n",
    "</pre>"
   ]
  },
  {
   "cell_type": "code",
   "execution_count": 92,
   "id": "c38e5bbd",
   "metadata": {},
   "outputs": [
    {
     "data": {
      "text/plain": [
       "array([[ 4,  3,  2,  1,  0],\n",
       "       [ 9,  8,  7,  6,  5],\n",
       "       [14, 13, 12, 11, 10]])"
      ]
     },
     "execution_count": 92,
     "metadata": {},
     "output_type": "execute_result"
    }
   ],
   "source": [
    "arr = np.arange(15).reshape(3,5)\n",
    "arr[:,[4,3,2,1,0]]"
   ]
  }
 ],
 "metadata": {
  "kernelspec": {
   "display_name": "Python 3 (ipykernel)",
   "language": "python",
   "name": "python3"
  },
  "language_info": {
   "codemirror_mode": {
    "name": "ipython",
    "version": 3
   },
   "file_extension": ".py",
   "mimetype": "text/x-python",
   "name": "python",
   "nbconvert_exporter": "python",
   "pygments_lexer": "ipython3",
   "version": "3.9.13"
  }
 },
 "nbformat": 4,
 "nbformat_minor": 5
}
