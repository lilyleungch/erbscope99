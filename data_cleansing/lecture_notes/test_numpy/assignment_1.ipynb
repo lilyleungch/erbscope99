{
 "cells": [
  {
   "cell_type": "markdown",
   "metadata": {},
   "source": [
    "Question 1\n",
    "Create a shape (3, 4) Numpy array named arr as follow table, and format dtype as float32\n",
    "1.2\t1.4\t1.6\t1.8\n",
    "2.3\t2.5\t2.7\t2.9\n",
    "3.4\t3.6\t3.8\t4.0\n",
    "\n",
    "array([[1.2, 1.4, 1.6, 1.8],\n",
    "       [2.3, 2.5, 2.7, 2.9],\n",
    "       [3.4, 3.6, 3.8, 4. ]], dtype=float32)\n"
   ]
  },
  {
   "cell_type": "code",
   "execution_count": 10,
   "metadata": {},
   "outputs": [],
   "source": [
    "import numpy as np\n",
    "arr= np.linspace(1.2,4,15, endpoint = True) \n",
    "arr=arr.astype('float32').reshape(3,5)"
   ]
  },
  {
   "cell_type": "markdown",
   "metadata": {},
   "source": [
    "Question 2\n",
    "Write code to show:\n",
    "(a)\tarr’s shape, and\n",
    "(b)\tdtype\n"
   ]
  },
  {
   "cell_type": "code",
   "execution_count": 11,
   "metadata": {},
   "outputs": [
    {
     "name": "stdout",
     "output_type": "stream",
     "text": [
      "(3, 5)\n",
      "float32\n"
     ]
    }
   ],
   "source": [
    "print(arr.shape)\n",
    "\n",
    "print(arr.dtype)"
   ]
  },
  {
   "cell_type": "markdown",
   "metadata": {},
   "source": [
    "Question 3\n",
    "Write code to calculate the square root of the arr, store the value in arr_sqrt and show the value.\n"
   ]
  },
  {
   "cell_type": "code",
   "execution_count": 12,
   "metadata": {},
   "outputs": [
    {
     "name": "stdout",
     "output_type": "stream",
     "text": [
      "[[1.2 1.4 1.6 1.8]\n",
      " [2.3 2.5 2.7 2.9]\n",
      " [3.4 3.6 3.8 4. ]]\n"
     ]
    }
   ],
   "source": [
    "import math\n",
    "arr1=[1.2, 1.4, 1.6, 1.8]\n",
    "arr2=[2.3, 2.5, 2.7, 2.9]\n",
    "arr3=[3.4, 3.6, 3.8, 4. ]\n",
    "\n",
    "sq_arr1=(math.sqrt(i) for i in arr1)\n",
    "sq_arr2=(math.sqrt(i) for i in arr2)\n",
    "sq_arr3=(math.sqrt(i ) for i in arr3)\n",
    "arr_sqrt=np.vstack((arr1,arr2,arr3))\n",
    "print(arr_sqrt)"
   ]
  },
  {
   "cell_type": "code",
   "execution_count": null,
   "metadata": {},
   "outputs": [],
   "source": [
    "Question 4\n",
    "Create a new Boolean array named arr2, to store the Boolean value of checking arr each value is greater and equal to 2.7. \n",
    " >>> arr2\n",
    "array([[False, False, False, False],\n",
    "       [False, False,  True,  True],\n",
    "       [ True,  True,  True,  True]])\n"
   ]
  },
  {
   "cell_type": "code",
   "execution_count": null,
   "metadata": {},
   "outputs": [],
   "source": []
  },
  {
   "cell_type": "code",
   "execution_count": null,
   "metadata": {},
   "outputs": [],
   "source": []
  }
 ],
 "metadata": {
  "kernelspec": {
   "display_name": ".venv",
   "language": "python",
   "name": "python3"
  },
  "language_info": {
   "codemirror_mode": {
    "name": "ipython",
    "version": 3
   },
   "file_extension": ".py",
   "mimetype": "text/x-python",
   "name": "python",
   "nbconvert_exporter": "python",
   "pygments_lexer": "ipython3",
   "version": "3.9.13"
  }
 },
 "nbformat": 4,
 "nbformat_minor": 2
}
