{
 "cells": [
  {
   "cell_type": "markdown",
   "metadata": {
    "_uuid": "7dac2651304bbdd274a99291c17f3be1e84c222b"
   },
   "source": [
    "# 100 numpy exercises\n",
    "\n",
    "This is a collection of exercises that have been collected in the numpy mailing list, on stack overflow and in the numpy documentation. The goal of this collection is to offer a quick reference for both old and new users but also to provide a set of exercises for those who teach.\n",
    "\n",
    "\n",
    "If you find an error or think you've a better way to solve some of them, feel free to open an issue at <https://github.com/rougier/numpy-100>"
   ]
  },
  {
   "cell_type": "markdown",
   "metadata": {
    "_uuid": "bf7265d79ded8d1b32c6ac6cf2ba89d6eba96461"
   },
   "source": [
    "#### 1. Import the numpy package under the name `np` (★☆☆)"
   ]
  },
  {
   "cell_type": "code",
   "execution_count": 8,
   "metadata": {},
   "outputs": [],
   "source": [
    "import numpy as np"
   ]
  },
  {
   "cell_type": "markdown",
   "metadata": {
    "_uuid": "2a9c567c3500905ffd716f33d72f2ce455931c6b"
   },
   "source": [
    "#### 2. Print the numpy version and the configuration (★☆☆)"
   ]
  },
  {
   "cell_type": "code",
   "execution_count": 9,
   "metadata": {},
   "outputs": [
    {
     "data": {
      "text/plain": [
       "'2.0.2'"
      ]
     },
     "execution_count": 9,
     "metadata": {},
     "output_type": "execute_result"
    }
   ],
   "source": [
    "np.__version__"
   ]
  },
  {
   "cell_type": "markdown",
   "metadata": {
    "_uuid": "77978f9afb5f957440f180861ccb06c2f644c317"
   },
   "source": [
    "#### 3. Create a null vector of size 10 (★☆☆)"
   ]
  },
  {
   "cell_type": "code",
   "execution_count": 10,
   "metadata": {},
   "outputs": [
    {
     "data": {
      "text/plain": [
       "array([0., 0., 0., 0., 0., 0., 0., 0., 0., 0.])"
      ]
     },
     "execution_count": 10,
     "metadata": {},
     "output_type": "execute_result"
    }
   ],
   "source": [
    "np.zeros(10)"
   ]
  },
  {
   "cell_type": "markdown",
   "metadata": {
    "_uuid": "9f2912dbc92ebcc2e86ac09930187d5d101552da"
   },
   "source": [
    "#### 4.  How to find the memory size of any array (★☆☆)"
   ]
  },
  {
   "cell_type": "code",
   "execution_count": null,
   "metadata": {},
   "outputs": [],
   "source": []
  },
  {
   "cell_type": "markdown",
   "metadata": {
    "_uuid": "61e755128e8631d194790854804d41362353f79d"
   },
   "source": [
    "#### 5.  How to get the documentation of the numpy add function from the command line? (★☆☆)"
   ]
  },
  {
   "cell_type": "code",
   "execution_count": null,
   "metadata": {},
   "outputs": [],
   "source": []
  },
  {
   "cell_type": "markdown",
   "metadata": {
    "_uuid": "c75ba6ea73f0a23f837c1553a0f564fbb8748557"
   },
   "source": [
    "#### 6.  Create a null vector of size 10 but the fifth value which is 1 (★☆☆)"
   ]
  },
  {
   "cell_type": "code",
   "execution_count": 11,
   "metadata": {},
   "outputs": [
    {
     "name": "stdout",
     "output_type": "stream",
     "text": [
      "[0. 0. 0. 0. 1. 0. 0. 0. 0. 0.]\n"
     ]
    }
   ],
   "source": [
    "arr=np.zeros(10)\n",
    "arr[4]=1\n",
    "print(arr)\n"
   ]
  },
  {
   "cell_type": "markdown",
   "metadata": {
    "_uuid": "118478fd9f22dc99584c1517078f1cdd4a4b36fc"
   },
   "source": [
    "#### 7.  Create a vector with values ranging from 10 to 49 (★☆☆)"
   ]
  },
  {
   "cell_type": "code",
   "execution_count": 12,
   "metadata": {},
   "outputs": [
    {
     "name": "stdout",
     "output_type": "stream",
     "text": [
      "[10 11 12 13 14 15 16 17 18 19 20 21 22 23 24 25 26 27 28 29 30 31 32 33\n",
      " 34 35 36 37 38 39 40 41 42 43 44 45 46 47 48 49]\n"
     ]
    }
   ],
   "source": [
    "arr=np.array(range(10,50))\n",
    "print(arr)"
   ]
  },
  {
   "cell_type": "markdown",
   "metadata": {
    "_uuid": "1c153cfc18b4c413b602d9fa073a4c049f1e703b"
   },
   "source": [
    "#### 8.  Reverse a vector (first element becomes last) (★☆☆)"
   ]
  },
  {
   "cell_type": "code",
   "execution_count": 13,
   "metadata": {},
   "outputs": [
    {
     "name": "stdout",
     "output_type": "stream",
     "text": [
      "[49 48 47 46 45 44 43 42 41 40 39 38 37 36 35 34 33 32 31 30 29 28 27 26\n",
      " 25 24 23 22 21 20 19 18 17 16 15 14 13 12 11 10]\n"
     ]
    }
   ],
   "source": [
    "print(arr[::-1])"
   ]
  },
  {
   "cell_type": "markdown",
   "metadata": {
    "_uuid": "647011edcdd237ef4bfa0ec4ce3a108805bbd11f"
   },
   "source": [
    "#### 9.  Create a 3x3 matrix with values ranging from 0 to 8 (★☆☆)"
   ]
  },
  {
   "cell_type": "code",
   "execution_count": 14,
   "metadata": {},
   "outputs": [
    {
     "data": {
      "text/plain": [
       "array([[0, 1, 2],\n",
       "       [3, 4, 5],\n",
       "       [6, 7, 8]])"
      ]
     },
     "execution_count": 14,
     "metadata": {},
     "output_type": "execute_result"
    }
   ],
   "source": [
    "arr=np.array(range(0,9))\n",
    "np.reshape(arr, (3,3))"
   ]
  },
  {
   "cell_type": "markdown",
   "metadata": {
    "_uuid": "c7d5733bee779737b5ad4250b257d0a1423ffbff"
   },
   "source": [
    "#### 10. Find indices of non-zero elements from \\[1,2,0,0,4,0\\] (★☆☆)"
   ]
  },
  {
   "cell_type": "code",
   "execution_count": 15,
   "metadata": {},
   "outputs": [
    {
     "name": "stdout",
     "output_type": "stream",
     "text": [
      "(0,)\n",
      "(1,)\n",
      "(4,)\n"
     ]
    }
   ],
   "source": [
    "arr=np.array([1,2,0,0,4,0])\n",
    "for x,y in np.ndenumerate(arr):\n",
    "    if y !=0:\n",
    "        print(x)"
   ]
  },
  {
   "cell_type": "markdown",
   "metadata": {
    "_uuid": "ab5c1aaf0377ab923c6dbb7452671c181544734a"
   },
   "source": [
    "#### 11. Create a 3x3 identity matrix (★☆☆)"
   ]
  },
  {
   "cell_type": "code",
   "execution_count": 16,
   "metadata": {},
   "outputs": [
    {
     "name": "stdout",
     "output_type": "stream",
     "text": [
      "[[1. 1. 1.]\n",
      " [1. 1. 1.]\n",
      " [1. 1. 1.]]\n"
     ]
    }
   ],
   "source": [
    "arr=np.ones((3,3))\n",
    "print(arr)"
   ]
  },
  {
   "cell_type": "markdown",
   "metadata": {
    "_uuid": "9c3d53fd277d07937bc04838c4ca57a0aaaec498"
   },
   "source": [
    "#### 12. Create a 3x3x3 array with random values (★☆☆)"
   ]
  },
  {
   "cell_type": "code",
   "execution_count": 50,
   "metadata": {},
   "outputs": [
    {
     "data": {
      "text/plain": [
       "array([[[0.46784447, 0.99006017, 0.02584856],\n",
       "        [0.51436768, 0.01887342, 0.92496368],\n",
       "        [0.12922573, 0.04515131, 0.97549222]],\n",
       "\n",
       "       [[0.41850742, 0.02228681, 0.97303963],\n",
       "        [0.10873324, 0.69176903, 0.15447822],\n",
       "        [0.17660779, 0.38749435, 0.31603568]],\n",
       "\n",
       "       [[0.0319311 , 0.6506797 , 0.86468142],\n",
       "        [0.15189236, 0.5281497 , 0.13171439],\n",
       "        [0.7650658 , 0.19664143, 0.92877994]]])"
      ]
     },
     "execution_count": 50,
     "metadata": {},
     "output_type": "execute_result"
    }
   ],
   "source": [
    "from numpy import random\n",
    "np.random.random((3,3,3))"
   ]
  },
  {
   "cell_type": "markdown",
   "metadata": {
    "_uuid": "886bef95cd1aa9af4133902b45b50127b5da54cb"
   },
   "source": [
    "#### 13. Create a 10x10 array with random values and find the minimum and maximum values (★☆☆)"
   ]
  },
  {
   "cell_type": "code",
   "execution_count": 52,
   "metadata": {},
   "outputs": [
    {
     "name": "stdout",
     "output_type": "stream",
     "text": [
      "0.9936081419907725\n",
      "0.0010331673595689317\n"
     ]
    }
   ],
   "source": [
    "arr=np.random.random((10,10))\n",
    "print(arr.max())\n",
    "print(arr.min())"
   ]
  },
  {
   "cell_type": "markdown",
   "metadata": {
    "_uuid": "07db1e47dcff92113a6d4c696e92a5578b20d89f"
   },
   "source": [
    "#### 14. Create a random vector of size 30 and find the mean value (★☆☆)"
   ]
  },
  {
   "cell_type": "code",
   "execution_count": 19,
   "metadata": {},
   "outputs": [
    {
     "name": "stdout",
     "output_type": "stream",
     "text": [
      "0.4818228703683445\n"
     ]
    }
   ],
   "source": [
    "arr=np.random.rand(30)\n",
    "print(arr.mean())"
   ]
  },
  {
   "cell_type": "markdown",
   "metadata": {
    "_uuid": "2234dffb1dffc779d1d24f269da232a560848ad0"
   },
   "source": [
    "#### 15. Create a 2d array with 1 on the border and 0 inside (★☆☆)"
   ]
  },
  {
   "cell_type": "code",
   "execution_count": 40,
   "metadata": {},
   "outputs": [
    {
     "name": "stdout",
     "output_type": "stream",
     "text": [
      "[[1. 1. 1. 1. 1.]]\n",
      "[[1. 1. 1. 1. 1. 1.]\n",
      " [0. 0. 0. 0. 0. 1.]\n",
      " [0. 0. 0. 0. 0. 1.]\n",
      " [0. 0. 0. 0. 0. 1.]\n",
      " [0. 0. 0. 0. 0. 1.]\n",
      " [0. 0. 0. 0. 0. 1.]]\n",
      "[[1. 1. 1. 1. 1. 1. 1.]\n",
      " [1. 0. 0. 0. 0. 0. 1.]\n",
      " [1. 0. 0. 0. 0. 0. 1.]\n",
      " [1. 0. 0. 0. 0. 0. 1.]\n",
      " [1. 0. 0. 0. 0. 0. 1.]\n",
      " [1. 0. 0. 0. 0. 0. 1.]]\n",
      "[[1. 1. 1. 1. 1. 1. 1.]\n",
      " [1. 0. 0. 0. 0. 0. 1.]\n",
      " [1. 0. 0. 0. 0. 0. 1.]\n",
      " [1. 0. 0. 0. 0. 0. 1.]\n",
      " [1. 0. 0. 0. 0. 0. 1.]\n",
      " [1. 0. 0. 0. 0. 0. 1.]\n",
      " [1. 1. 1. 1. 1. 1. 1.]]\n"
     ]
    }
   ],
   "source": [
    "arr3= np.zeros((5,5))\n",
    "arr2=np.ones((1,5))\n",
    "print(arr2)\n",
    "arr4= np.concatenate((arr2, arr3), axis =0 )\n",
    "arr6=np.ones((1,6))\n",
    "arr5 =np.concatenate((arr4,arr6.T), axis = 1)\n",
    "print(arr5)\n",
    "arr7 = np.concatenate((arr6.T,arr5), axis = 1)\n",
    "print(arr7)\n",
    "arr8= np.ones((1,7))\n",
    "arr9= np.concatenate((arr7, arr8), axis = 0)\n",
    "print(arr9)"
   ]
  },
  {
   "cell_type": "markdown",
   "metadata": {
    "_uuid": "6e24eff853c1ead319eba0adf0efdf31a58c6944"
   },
   "source": [
    "#### 16. How to add a border (filled with 0's) around an existing array? (★☆☆)"
   ]
  },
  {
   "cell_type": "code",
   "execution_count": 55,
   "metadata": {},
   "outputs": [
    {
     "name": "stdout",
     "output_type": "stream",
     "text": [
      "[[0. 0. 0. 0. 0. 0. 0.]\n",
      " [0. 1. 1. 1. 1. 1. 0.]\n",
      " [0. 1. 1. 1. 1. 1. 0.]\n",
      " [0. 1. 1. 1. 1. 1. 0.]\n",
      " [0. 1. 1. 1. 1. 1. 0.]\n",
      " [0. 1. 1. 1. 1. 1. 0.]\n",
      " [0. 0. 0. 0. 0. 0. 0.]]\n"
     ]
    }
   ],
   "source": [
    "Z=np.ones((5,5))\n",
    "Z=np.pad(Z, pad_width=1, mode='constant', constant_values=0)\n",
    "#OR\n",
    "Z[:, [0, -1]] = 0\n",
    "Z[[0, -1], :] = 0\n",
    "print(Z)"
   ]
  },
  {
   "cell_type": "markdown",
   "metadata": {
    "_uuid": "1f657aee797f18a40aa7a5e98362719bc73ebdee"
   },
   "source": [
    "#### 17. What is the result of the following expression? (★☆☆)"
   ]
  },
  {
   "cell_type": "code",
   "execution_count": 56,
   "metadata": {},
   "outputs": [
    {
     "data": {
      "text/plain": [
       "False"
      ]
     },
     "execution_count": 56,
     "metadata": {},
     "output_type": "execute_result"
    }
   ],
   "source": [
    "0 * np.nan\n",
    "np.nan == np.nan\n",
    "np.inf > np.nan\n",
    "np.nan - np.nan\n",
    "np.nan in set([np.nan])\n",
    "0.3 == 3 * 0.1"
   ]
  },
  {
   "cell_type": "markdown",
   "metadata": {
    "_uuid": "e22023622e0ec70b97ca378772dae42cff45d73c"
   },
   "source": [
    "#### 18. Create a 5x5 matrix with values 1,2,3,4 just below the diagonal (★☆☆)"
   ]
  },
  {
   "cell_type": "markdown",
   "metadata": {
    "_uuid": "2e1e85761e1eafa4cd8986a3aa28763f2b8197e2"
   },
   "source": [
    "#### 19. Create a 8x8 matrix and fill it with a checkerboard pattern (★☆☆)"
   ]
  },
  {
   "cell_type": "markdown",
   "metadata": {
    "_uuid": "87e644b2696a16879dcf96b35b17a48db550cd04"
   },
   "source": [
    "#### 20. Consider a (6,7,8) shape array, what is the index (x,y,z) of the 100th element?"
   ]
  },
  {
   "cell_type": "markdown",
   "metadata": {
    "_uuid": "13a635e9f2af055ba88eb102eeb4d8025570a93d"
   },
   "source": [
    "#### 21. Create a checkerboard 8x8 matrix using the tile function (★☆☆)"
   ]
  },
  {
   "cell_type": "markdown",
   "metadata": {
    "_uuid": "87fb9e8995db8ee27d3c209c840f3f2c6acb9bc5"
   },
   "source": [
    "#### 22. Normalize a 5x5 random matrix (★☆☆)"
   ]
  },
  {
   "cell_type": "markdown",
   "metadata": {
    "_uuid": "a86da96f18b0eef155a85b49e36aaa51b2403a61"
   },
   "source": [
    "#### 23. Create a custom dtype that describes a color as four unsigned bytes (RGBA) (★☆☆)"
   ]
  },
  {
   "cell_type": "markdown",
   "metadata": {
    "_uuid": "659926bf5bf80842361a658fd0f84bf24084fbf3"
   },
   "source": [
    "#### 24. Multiply a 5x3 matrix by a 3x2 matrix (real matrix product) (★☆☆)"
   ]
  },
  {
   "cell_type": "markdown",
   "metadata": {
    "_uuid": "0a65567844ac53a18dbb387a8694da2b1c78294a"
   },
   "source": [
    "#### 25. Given a 1D array, negate all elements which are between 3 and 8, in place. (★☆☆)"
   ]
  },
  {
   "cell_type": "markdown",
   "metadata": {
    "_uuid": "dad4e194cbf30833bbc7dba6714e300239088610"
   },
   "source": [
    "#### 26. What is the output of the following script? (★☆☆)"
   ]
  },
  {
   "cell_type": "markdown",
   "metadata": {
    "_uuid": "c13814936adf93d11212e3e85e67a37e48b1fd72"
   },
   "source": [
    "#### 27. Consider an integer vector Z, which of these expressions are legal? (★☆☆)"
   ]
  },
  {
   "cell_type": "markdown",
   "metadata": {
    "_uuid": "87cfa6cec4f5f3efa4d92b7d01be3e15e92eb8d9"
   },
   "source": [
    "#### 28. What are the result of the following expressions?"
   ]
  },
  {
   "cell_type": "markdown",
   "metadata": {
    "_uuid": "748fc33413222da461b2aac2a9fcabff3e18e057"
   },
   "source": [
    "#### 29. How to round away from zero a float array ? (★☆☆)"
   ]
  },
  {
   "cell_type": "markdown",
   "metadata": {
    "_uuid": "e49ca0d2249b4a5cf25b264e42c6feb3057889ed"
   },
   "source": [
    "#### 30. How to find common values between two arrays? (★☆☆)"
   ]
  },
  {
   "cell_type": "markdown",
   "metadata": {
    "_uuid": "18843482db38cbb4ca8de77cb7c7e787acd5fa20"
   },
   "source": [
    "#### 31. How to ignore all numpy warnings (not recommended)? (★☆☆)"
   ]
  },
  {
   "cell_type": "markdown",
   "metadata": {
    "_uuid": "dcb0cd567860239870f01fd07f5afa59961b6b89"
   },
   "source": [
    "#### 32. Is the following expressions true? (★☆☆)"
   ]
  },
  {
   "cell_type": "markdown",
   "metadata": {
    "_uuid": "68d59ad2323d4ede5a110e8d9650aab01eb5174d"
   },
   "source": [
    "#### 33. How to get the dates of yesterday, today and tomorrow? (★☆☆)"
   ]
  },
  {
   "cell_type": "markdown",
   "metadata": {
    "_uuid": "d8e6dcb1cf0ae2d7c4fc08a657a186df0f4f171f"
   },
   "source": [
    "#### 34. How to get all the dates corresponding to the month of July 2016? (★★☆)"
   ]
  },
  {
   "cell_type": "markdown",
   "metadata": {
    "_uuid": "9e2512ad8b29d3599cababc7009febce91929869"
   },
   "source": [
    "#### 35. How to compute ((A+B)\\*(-A/2)) in place (without copy)? (★★☆)"
   ]
  },
  {
   "cell_type": "markdown",
   "metadata": {
    "_uuid": "861564e1209df602ba9acf76b21764166d941f64"
   },
   "source": [
    "#### 36. Extract the integer part of a random array using 5 different methods (★★☆)"
   ]
  },
  {
   "cell_type": "markdown",
   "metadata": {
    "_uuid": "1acff22fb998865b58d5a9b37b0a5ce5b7f13387"
   },
   "source": [
    "#### 37. Create a 5x5 matrix with row values ranging from 0 to 4 (★★☆)"
   ]
  },
  {
   "cell_type": "markdown",
   "metadata": {
    "_uuid": "dd54ec03c8ce814c994611575b49cd2e14b4071a"
   },
   "source": [
    "#### 38. Consider a generator function that generates 10 integers and use it to build an array (★☆☆)"
   ]
  },
  {
   "cell_type": "markdown",
   "metadata": {
    "_uuid": "c52ceff787ef50f22325107cb5f5b1bfac61858f"
   },
   "source": [
    "#### 39. Create a vector of size 10 with values ranging from 0 to 1, both excluded (★★☆)"
   ]
  },
  {
   "cell_type": "markdown",
   "metadata": {
    "_uuid": "34f5d6e2e269678714f1e5aafec8a92d6411ecd3"
   },
   "source": [
    "#### 40. Create a random vector of size 10 and sort it (★★☆)"
   ]
  },
  {
   "cell_type": "markdown",
   "metadata": {
    "_uuid": "83c5fbdf8c61a57380aa9deeb60fb1546c5560bc"
   },
   "source": [
    "#### 41. How to sum a small array faster than np.sum? (★★☆)"
   ]
  },
  {
   "cell_type": "markdown",
   "metadata": {
    "_uuid": "0502011982ec9de8f998bdcc76ff2d00dc9bad6e"
   },
   "source": [
    "#### 42. Consider two random array A and B, check if they are equal (★★☆)"
   ]
  },
  {
   "cell_type": "markdown",
   "metadata": {
    "_uuid": "100623c44dc702d6ac2ac5d35b4e5173c906f317"
   },
   "source": [
    "#### 43. Make an array immutable (read-only) (★★☆)"
   ]
  },
  {
   "cell_type": "markdown",
   "metadata": {
    "_uuid": "acb91faea0d29424787d28d2b532530712d96843"
   },
   "source": [
    "#### 44. Consider a random 10x2 matrix representing cartesian coordinates, convert them to polar coordinates (★★☆)"
   ]
  },
  {
   "cell_type": "markdown",
   "metadata": {
    "_uuid": "353f854c6c99f2889b0d31cc69bc1fd7fccd0fe1"
   },
   "source": [
    "#### 45. Create random vector of size 10 and replace the maximum value by 0 (★★☆)"
   ]
  },
  {
   "cell_type": "markdown",
   "metadata": {
    "_uuid": "f7790f5d373c9f35e4407da026b1f432678e6a54"
   },
   "source": [
    "#### 46. Create a structured array with `x` and `y` coordinates covering the \\[0,1\\]x\\[0,1\\] area (★★☆)"
   ]
  },
  {
   "cell_type": "markdown",
   "metadata": {
    "_uuid": "1300814d19e6012622274d6a0a7b5551159278dc"
   },
   "source": [
    "####  47. Given two arrays, X and Y, construct the Cauchy matrix C (Cij =1/(xi - yj))"
   ]
  },
  {
   "cell_type": "markdown",
   "metadata": {
    "_uuid": "879952e7f6a37f63e8ebadf4baa516325eeb60c6"
   },
   "source": [
    "#### 48. Print the minimum and maximum representable value for each numpy scalar type (★★☆)"
   ]
  },
  {
   "cell_type": "markdown",
   "metadata": {
    "_uuid": "7ce0b16c0951d51c8a9755e83432bcb5faa7b542"
   },
   "source": [
    "#### 49. How to print all the values of an array? (★★☆)"
   ]
  },
  {
   "cell_type": "markdown",
   "metadata": {
    "_uuid": "3cd7d90b37471536a03b27117c01d82a1ed1439c"
   },
   "source": [
    "#### 50. How to find the closest value (to a given scalar) in a vector? (★★☆)"
   ]
  },
  {
   "cell_type": "markdown",
   "metadata": {
    "_uuid": "6282f6e53b61d3d121c0a4be1bb3441da1069e37"
   },
   "source": [
    "#### 51. Create a structured array representing a position (x,y) and a color (r,g,b) (★★☆)"
   ]
  },
  {
   "cell_type": "markdown",
   "metadata": {
    "_uuid": "d516168bf762ce6077e2d6aff43d1e075e6bb252"
   },
   "source": [
    "#### 52. Consider a random vector with shape (100,2) representing coordinates, find point by point distances (★★☆)"
   ]
  },
  {
   "cell_type": "markdown",
   "metadata": {
    "_uuid": "35b4e9307a72301c43b077924e4674cdee69fdf0"
   },
   "source": [
    "#### 53. How to convert a float (32 bits) array into an integer (32 bits) in place?"
   ]
  },
  {
   "cell_type": "markdown",
   "metadata": {
    "_uuid": "ba624a09e6c7ad2469893f0803914f9df40b6e43"
   },
   "source": [
    "#### 54. How to read the following file? (★★☆)"
   ]
  },
  {
   "cell_type": "markdown",
   "metadata": {
    "_uuid": "2069af8a433b9e7ed0adba61834ee1c08a691e86"
   },
   "source": [
    "#### 55. What is the equivalent of enumerate for numpy arrays? (★★☆)"
   ]
  },
  {
   "cell_type": "markdown",
   "metadata": {
    "_uuid": "93ffc8b3b84a62c05657bebcea6a1f825017907f"
   },
   "source": [
    "#### 56. Generate a generic 2D Gaussian-like array (★★☆)"
   ]
  },
  {
   "cell_type": "markdown",
   "metadata": {
    "_uuid": "389113b4e22ac2f5454686a38fa9f4e2500e4c52"
   },
   "source": [
    "#### 57. How to randomly place p elements in a 2D array? (★★☆)"
   ]
  },
  {
   "cell_type": "markdown",
   "metadata": {
    "_uuid": "ad23d8b28a5016197192b4a6ecdfa61d3c54f49f"
   },
   "source": [
    "#### 58. Subtract the mean of each row of a matrix (★★☆)"
   ]
  },
  {
   "cell_type": "markdown",
   "metadata": {
    "_uuid": "6dfaee28f6ffc182b31d95b2dd7db135b3cda134"
   },
   "source": [
    "#### 59. How to sort an array by the nth column? (★★☆)"
   ]
  },
  {
   "cell_type": "markdown",
   "metadata": {
    "_uuid": "26c24e107a164a8a931e1458db472aeabc0dd9d1"
   },
   "source": [
    "#### 60. How to tell if a given 2D array has null columns? (★★☆)"
   ]
  },
  {
   "cell_type": "markdown",
   "metadata": {
    "_uuid": "c446326eba80f10ee44e69c38975a02b76272c66"
   },
   "source": [
    "#### 61. Find the nearest value from a given value in an array (★★☆)"
   ]
  },
  {
   "cell_type": "markdown",
   "metadata": {
    "_uuid": "ed78b6480e33d62936d0454ef9757390456a37e8"
   },
   "source": [
    "#### 62. Considering two arrays with shape (1,3) and (3,1), how to compute their sum using an iterator? (★★☆)"
   ]
  },
  {
   "cell_type": "markdown",
   "metadata": {
    "_uuid": "7c4a7f4c7f71603b7803cb77e1c8dc4556378f4b"
   },
   "source": [
    "#### 63. Create an array class that has a name attribute (★★☆)"
   ]
  },
  {
   "cell_type": "markdown",
   "metadata": {
    "_uuid": "28ced8d1105155575199e1e57e16ab27ba7dcb3c"
   },
   "source": [
    "#### 64. Consider a given vector, how to add 1 to each element indexed by a second vector (be careful with repeated indices)? (★★★)"
   ]
  },
  {
   "cell_type": "markdown",
   "metadata": {
    "_uuid": "3c1d4443ce35bca0ec477f22957adc49b3da9071"
   },
   "source": [
    "#### 65. How to accumulate elements of a vector (X) to an array (F) based on an index list (I)? (★★★)"
   ]
  },
  {
   "cell_type": "markdown",
   "metadata": {
    "_uuid": "3ee7aa17d1e2574ff7c9467ce117a84bf1457a90"
   },
   "source": [
    "#### 66. Considering a (w,h,3) image of (dtype=ubyte), compute the number of unique colors (★★★)"
   ]
  },
  {
   "cell_type": "markdown",
   "metadata": {
    "_uuid": "1f437c758e09b1d20cdb7db2d58806768c3914e1"
   },
   "source": [
    "#### 67. Considering a four dimensions array, how to get sum over the last two axis at once? (★★★)"
   ]
  },
  {
   "cell_type": "markdown",
   "metadata": {
    "_uuid": "69e45dc9ae67c5a964c1f44e7d434c12356e55f6"
   },
   "source": [
    "#### 68. Considering a one-dimensional vector D, how to compute means of subsets of D using a vector S of same size describing subset  indices? (★★★)"
   ]
  },
  {
   "cell_type": "markdown",
   "metadata": {
    "_uuid": "620cc111a526a41f264e47d9738fb2d27ef1aa6e"
   },
   "source": [
    "#### 69. How to get the diagonal of a dot product? (★★★)"
   ]
  },
  {
   "cell_type": "markdown",
   "metadata": {
    "_uuid": "e117871c83cf8f95effaeaf57c8e39d342173ac8"
   },
   "source": [
    "#### 70. Consider the vector \\[1, 2, 3, 4, 5\\], how to build a new vector with 3 consecutive zeros interleaved between each value? (★★★)"
   ]
  },
  {
   "cell_type": "markdown",
   "metadata": {
    "_uuid": "967288203450de09d5761904c7911e16c842b6b3"
   },
   "source": [
    "#### 71. Consider an array of dimension (5,5,3), how to mulitply it by an array with dimensions (5,5)? (★★★)"
   ]
  },
  {
   "cell_type": "markdown",
   "metadata": {
    "_uuid": "899841bbc67e2a7e0f51536f3191625078f29864"
   },
   "source": [
    "#### 72. How to swap two rows of an array? (★★★)"
   ]
  },
  {
   "cell_type": "markdown",
   "metadata": {
    "_uuid": "27b3d2e02f5c0a32071d3efbf9528a5a0a54d763"
   },
   "source": [
    "#### 73. Consider a set of 10 triplets describing 10 triangles (with shared vertices), find the set of unique line segments composing all the  triangles (★★★)"
   ]
  },
  {
   "cell_type": "markdown",
   "metadata": {
    "_uuid": "4822e0e421b959ecd054474216e08fcba9aaced8"
   },
   "source": [
    "#### 74. Given an array C that is a bincount, how to produce an array A such that np.bincount(A) == C? (★★★)"
   ]
  },
  {
   "cell_type": "markdown",
   "metadata": {
    "_uuid": "db98ac94341682cad0c85dc68c7dba1572346778"
   },
   "source": [
    "#### 75. How to compute averages using a sliding window over an array? (★★★)"
   ]
  },
  {
   "cell_type": "markdown",
   "metadata": {
    "_uuid": "794378d0e03ed3462a6f87827ffae487496cf85d"
   },
   "source": [
    "#### 76. Consider a one-dimensional array Z, build a two-dimensional array whose first row is (Z\\[0\\],Z\\[1\\],Z\\[2\\]) and each subsequent row is  shifted by 1 (last row should be (Z\\[-3\\],Z\\[-2\\],Z\\[-1\\]) (★★★)"
   ]
  },
  {
   "cell_type": "markdown",
   "metadata": {
    "_uuid": "f5349e34f831b12ac2f7b75bc67a065ba32d71df"
   },
   "source": [
    "#### 77. How to negate a boolean, or to change the sign of a float inplace? (★★★)"
   ]
  },
  {
   "cell_type": "markdown",
   "metadata": {
    "_uuid": "ce309f54e1032b505c9fced97839bf257bc2cf64"
   },
   "source": [
    "#### 78. Consider 2 sets of points P0,P1 describing lines (2d) and a point p, how to compute distance from p to each line i  (P0\\[i\\],P1\\[i\\])? (★★★)"
   ]
  },
  {
   "cell_type": "markdown",
   "metadata": {
    "_uuid": "df3a094eb31c73f48bfb72132dadbe47a69e8bb4"
   },
   "source": [
    "#### 79. Consider 2 sets of points P0,P1 describing lines (2d) and a set of points P, how to compute distance from each point j (P\\[j\\]) to each line i (P0\\[i\\],P1\\[i\\])? (★★★)"
   ]
  },
  {
   "cell_type": "markdown",
   "metadata": {
    "_uuid": "4cf8d4a09224f87c8df4de7af1fb6bd79e255769"
   },
   "source": [
    "#### 80. Consider an arbitrary array, write a function that extract a subpart with a fixed shape and centered on a given element (pad with a `fill` value when necessary) (★★★)"
   ]
  },
  {
   "cell_type": "markdown",
   "metadata": {
    "_uuid": "8c82f8a6f87f80e600419bc6e3728b21dbc4b8ff"
   },
   "source": [
    "#### 81. Consider an array Z = \\[1,2,3,4,5,6,7,8,9,10,11,12,13,14\\], how to generate an array R = \\[\\[1,2,3,4\\], \\[2,3,4,5\\], \\[3,4,5,6\\], ..., \\[11,12,13,14\\]\\]? (★★★)"
   ]
  },
  {
   "cell_type": "markdown",
   "metadata": {
    "_uuid": "657e96419a48dfb4bc697876935cef0e6cdcb8f5"
   },
   "source": [
    "#### 82. Compute a matrix rank (★★★)"
   ]
  },
  {
   "cell_type": "markdown",
   "metadata": {
    "_uuid": "24b86507600d4f283f09b3117a0b9266446e5b98"
   },
   "source": [
    "#### 83. How to find the most frequent value in an array?"
   ]
  },
  {
   "cell_type": "markdown",
   "metadata": {
    "_uuid": "62f38d5b2a9486d69d708d91a2ff76c52b5e409e"
   },
   "source": [
    "#### 84. Extract all the contiguous 3x3 blocks from a random 10x10 matrix (★★★)"
   ]
  },
  {
   "cell_type": "markdown",
   "metadata": {
    "_uuid": "356cb226b8732db0b4956dcbb10146f370e5b21a"
   },
   "source": [
    "#### 85. Create a 2D array subclass such that Z\\[i,j\\] == Z\\[j,i\\] (★★★)"
   ]
  },
  {
   "cell_type": "markdown",
   "metadata": {
    "_uuid": "eee96b7539939d2440942d090dbb3aa1b740536f"
   },
   "source": [
    "#### 86. Consider a set of p matrices wich shape (n,n) and a set of p vectors with shape (n,1). How to compute the sum of of the p matrix products at once? (result has shape (n,1)) (★★★)"
   ]
  },
  {
   "cell_type": "markdown",
   "metadata": {
    "_uuid": "a818718ccd3bec10bb97bd7ceb01d269df14f0b9"
   },
   "source": [
    "#### 87. Consider a 16x16 array, how to get the block-sum (block size is 4x4)? (★★★)"
   ]
  },
  {
   "cell_type": "markdown",
   "metadata": {
    "_uuid": "5efdc16efb03117e516f8b10aa9413a5abc70e02"
   },
   "source": [
    "#### 88. How to implement the Game of Life using numpy arrays? (★★★)"
   ]
  },
  {
   "cell_type": "markdown",
   "metadata": {
    "_uuid": "976eba1abb40955e6bf05a5847ec1bf8591fab05"
   },
   "source": [
    "#### 89. How to get the n largest values of an array (★★★)"
   ]
  },
  {
   "cell_type": "markdown",
   "metadata": {
    "_uuid": "ffe9e29aa6750ab693ef37ca60c461a82a761dd9"
   },
   "source": [
    "#### 90. Given an arbitrary number of vectors, build the cartesian product (every combinations of every item) (★★★)"
   ]
  },
  {
   "cell_type": "markdown",
   "metadata": {
    "_uuid": "16034f8e04d44923f487cd2a734692578b585dfc"
   },
   "source": [
    "#### 91. How to create a record array from a regular array? (★★★)"
   ]
  },
  {
   "cell_type": "markdown",
   "metadata": {
    "_uuid": "4af186d08ff5a394f0bd3df61c08924180664242"
   },
   "source": [
    "#### 92. Consider a large vector Z, compute Z to the power of 3 using 3 different methods (★★★)"
   ]
  },
  {
   "cell_type": "markdown",
   "metadata": {
    "_uuid": "31e96d464715e1711345f674f79cb64703d39f69"
   },
   "source": [
    "#### 93. Consider two arrays A and B of shape (8,3) and (2,2). How to find rows of A that contain elements of each row of B regardless of the order of the elements in B? (★★★)"
   ]
  },
  {
   "cell_type": "markdown",
   "metadata": {
    "_uuid": "74175efecabdb8e5f43531beab38a64203b0331f"
   },
   "source": [
    "#### 94. Considering a 10x3 matrix, extract rows with unequal values (e.g. \\[2,2,3\\]) (★★★)"
   ]
  },
  {
   "cell_type": "markdown",
   "metadata": {
    "_uuid": "5afd250a943d5e2f008bf0682376e140be69d007"
   },
   "source": [
    "#### 95. Convert a vector of ints into a matrix binary representation (★★★)"
   ]
  },
  {
   "cell_type": "markdown",
   "metadata": {
    "_uuid": "c5a8dd39a51cf4dbe37653e3d6131d06ac7a449c"
   },
   "source": [
    "#### 96. Given a two dimensional array, how to extract unique rows? (★★★)"
   ]
  },
  {
   "cell_type": "markdown",
   "metadata": {
    "_uuid": "d6b3ea56acfd5d993c47a9133717fe70f3475cb8"
   },
   "source": [
    "#### 97. Considering 2 vectors A & B, write the einsum equivalent of inner, outer, sum, and mul function (★★★)"
   ]
  },
  {
   "cell_type": "markdown",
   "metadata": {
    "_uuid": "6a56f94c7bf3d56ee49bff6da8d1cc73c0098cee"
   },
   "source": [
    "#### 98. Considering a path described by two vectors (X,Y), how to sample it using equidistant samples (★★★)?"
   ]
  },
  {
   "cell_type": "markdown",
   "metadata": {
    "_uuid": "5fb61ce6e7ea34a5b937334882106c1aa09d80a3"
   },
   "source": [
    "#### 99. Given an integer n and a 2D array X, select from X the rows which can be interpreted as draws from a multinomial distribution with n degrees, i.e., the rows which only contain integers and which sum to n. (★★★)"
   ]
  },
  {
   "cell_type": "markdown",
   "metadata": {
    "_uuid": "93abcae8fa323bad995c5f6db368c6d8b21d995b"
   },
   "source": [
    "#### 100. Compute bootstrapped 95% confidence intervals for the mean of a 1D array X (i.e., resample the elements of an array with replacement N times, compute the mean of each sample, and then compute percentiles over the means). (★★★)"
   ]
  }
 ],
 "metadata": {
  "kernelspec": {
   "display_name": "Python 3",
   "language": "python",
   "name": "python3"
  },
  "language_info": {
   "codemirror_mode": {
    "name": "ipython",
    "version": 3
   },
   "file_extension": ".py",
   "mimetype": "text/x-python",
   "name": "python",
   "nbconvert_exporter": "python",
   "pygments_lexer": "ipython3",
   "version": "3.9.13"
  }
 },
 "nbformat": 4,
 "nbformat_minor": 1
}
