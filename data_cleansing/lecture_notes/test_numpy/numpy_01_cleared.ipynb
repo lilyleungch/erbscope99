{
 "cells": [
  {
   "cell_type": "markdown",
   "id": "c5e320e1",
   "metadata": {},
   "source": [
    "# Import Numpy and Check its Version"
   ]
  },
  {
   "cell_type": "code",
   "execution_count": 11,
   "id": "f72e0d56",
   "metadata": {},
   "outputs": [
    {
     "data": {
      "text/plain": [
       "'2.0.2'"
      ]
     },
     "execution_count": 11,
     "metadata": {},
     "output_type": "execute_result"
    }
   ],
   "source": [
    "import numpy\n",
    "numpy.__version__\n"
   ]
  },
  {
   "cell_type": "markdown",
   "id": "09be0239",
   "metadata": {},
   "source": [
    "Usually we use initial np for ease of following coding "
   ]
  },
  {
   "cell_type": "code",
   "execution_count": 12,
   "id": "41865fe6",
   "metadata": {},
   "outputs": [],
   "source": [
    "import numpy as np"
   ]
  },
  {
   "cell_type": "code",
   "execution_count": 13,
   "id": "aa428afb",
   "metadata": {},
   "outputs": [
    {
     "name": "stdout",
     "output_type": "stream",
     "text": [
      "[1, 2, 3]\n"
     ]
    },
    {
     "data": {
      "text/plain": [
       "list"
      ]
     },
     "execution_count": 13,
     "metadata": {},
     "output_type": "execute_result"
    }
   ],
   "source": [
    "python_list = [1,2,3]\n",
    "print(python_list)\n",
    "type(python_list)"
   ]
  },
  {
   "cell_type": "markdown",
   "id": "b1ce2df6",
   "metadata": {},
   "source": [
    "# Create 1-D numpy array"
   ]
  },
  {
   "cell_type": "code",
   "execution_count": 14,
   "id": "9c893c56",
   "metadata": {},
   "outputs": [
    {
     "name": "stdout",
     "output_type": "stream",
     "text": [
      "[1 2 3]\n"
     ]
    },
    {
     "data": {
      "text/plain": [
       "numpy.ndarray"
      ]
     },
     "execution_count": 14,
     "metadata": {},
     "output_type": "execute_result"
    }
   ],
   "source": [
    "arr = np.array([1, 2, 3])\n",
    "print(arr)\n",
    "type(arr)"
   ]
  },
  {
   "cell_type": "code",
   "execution_count": 15,
   "id": "8c288605",
   "metadata": {},
   "outputs": [
    {
     "data": {
      "text/plain": [
       "(3,)"
      ]
     },
     "execution_count": 15,
     "metadata": {},
     "output_type": "execute_result"
    }
   ],
   "source": [
    "arr.shape"
   ]
  },
  {
   "cell_type": "markdown",
   "id": "e5be8960",
   "metadata": {},
   "source": [
    "# Slicing 1-D array"
   ]
  },
  {
   "cell_type": "code",
   "execution_count": 16,
   "id": "e7f8a2c6",
   "metadata": {},
   "outputs": [
    {
     "name": "stdout",
     "output_type": "stream",
     "text": [
      "1\n",
      "2\n",
      "3\n",
      "[1 2 3]\n",
      "[2 3]\n",
      "[1 2]\n"
     ]
    }
   ],
   "source": [
    "arr2 = np.array([1, 2, 3])\n",
    "print(arr2[0])\n",
    "print(arr2[1])\n",
    "print(arr2[-1])\n",
    "print(arr2[:])\n",
    "print(arr2[1:])\n",
    "print(arr2[:2])"
   ]
  },
  {
   "cell_type": "markdown",
   "id": "cc6ffc52",
   "metadata": {},
   "source": [
    "# Create 2-D array"
   ]
  },
  {
   "cell_type": "code",
   "execution_count": 17,
   "id": "4c42796d",
   "metadata": {},
   "outputs": [
    {
     "name": "stdout",
     "output_type": "stream",
     "text": [
      "[[1 2]\n",
      " [3 4]\n",
      " [5 6]\n",
      " [7 8]]\n"
     ]
    },
    {
     "data": {
      "text/plain": [
       "(4, 2)"
      ]
     },
     "execution_count": 17,
     "metadata": {},
     "output_type": "execute_result"
    }
   ],
   "source": [
    "arr_2D = np.array([[1,2],[3,4],[5,6],[7,8]])\n",
    "print(arr_2D)\n",
    "arr_2D.shape"
   ]
  },
  {
   "cell_type": "markdown",
   "id": "2d4422cc",
   "metadata": {},
   "source": [
    "# Slicing 2-D array"
   ]
  },
  {
   "cell_type": "code",
   "execution_count": 18,
   "id": "e735cf60",
   "metadata": {},
   "outputs": [
    {
     "name": "stdout",
     "output_type": "stream",
     "text": [
      "[3 4]\n",
      "7\n",
      "[[1 2]\n",
      " [3 4]]\n"
     ]
    }
   ],
   "source": [
    "arr_2D = np.array([[1,2],[3,4],[5,6],[7,8]])\n",
    "print(arr_2D[1])    # [3 4]\n",
    "print(arr_2D[3][0]) # 7\n",
    "print(arr_2D[:2])"
   ]
  },
  {
   "cell_type": "code",
   "execution_count": 19,
   "id": "2d35c485",
   "metadata": {
    "scrolled": true
   },
   "outputs": [
    {
     "name": "stdout",
     "output_type": "stream",
     "text": [
      "[1 3 5 7]\n",
      "[2 4 6 8]\n"
     ]
    },
    {
     "data": {
      "text/plain": [
       "[<matplotlib.lines.Line2D at 0x2b75c9e2cd0>]"
      ]
     },
     "execution_count": 19,
     "metadata": {},
     "output_type": "execute_result"
    },
    {
     "data": {
      "image/png": "[encoded data removed]",
      "text/plain": [
       "<Figure size 640x480 with 1 Axes>"
      ]
     },
     "metadata": {},
     "output_type": "display_data"
    }
   ],
   "source": [
    "arr_2D = np.array([[1,2],[3,4],[5,6],[7,8]])\n",
    "print(arr_2D[:,0])\n",
    "print(arr_2D[:,1])\n",
    "\n",
    "import matplotlib.pyplot as plt\n",
    "plt.plot(arr_2D[0][:], arr_2D[:][0])"
   ]
  },
  {
   "cell_type": "markdown",
   "id": "e23baedd",
   "metadata": {},
   "source": [
    "# Reshape an array"
   ]
  },
  {
   "cell_type": "code",
   "execution_count": 20,
   "id": "a16c5424",
   "metadata": {},
   "outputs": [
    {
     "data": {
      "text/plain": [
       "(6,)"
      ]
     },
     "execution_count": 20,
     "metadata": {},
     "output_type": "execute_result"
    }
   ],
   "source": [
    "data = np.array([1,2,3,4,5,6])\n",
    "data.shape"
   ]
  },
  {
   "cell_type": "code",
   "execution_count": 21,
   "id": "cdbb84be",
   "metadata": {},
   "outputs": [
    {
     "data": {
      "text/plain": [
       "array([[1, 2, 3],\n",
       "       [4, 5, 6]])"
      ]
     },
     "execution_count": 21,
     "metadata": {},
     "output_type": "execute_result"
    }
   ],
   "source": [
    "data.reshape(2,3)"
   ]
  },
  {
   "cell_type": "code",
   "execution_count": 22,
   "id": "d7794237",
   "metadata": {},
   "outputs": [
    {
     "data": {
      "text/plain": [
       "array([[1, 2],\n",
       "       [3, 4],\n",
       "       [5, 6]])"
      ]
     },
     "execution_count": 22,
     "metadata": {},
     "output_type": "execute_result"
    }
   ],
   "source": [
    "data.reshape(3,2)"
   ]
  },
  {
   "cell_type": "code",
   "execution_count": 23,
   "id": "bc131e10",
   "metadata": {},
   "outputs": [
    {
     "data": {
      "text/plain": [
       "array([1, 2, 3, 4, 5, 6])"
      ]
     },
     "execution_count": 23,
     "metadata": {},
     "output_type": "execute_result"
    }
   ],
   "source": [
    "data\n",
    "# If you need to process the reshape array later, you should assign it to a new name, i.e. data2=data.reshape(2,3)"
   ]
  },
  {
   "cell_type": "markdown",
   "id": "40d6db74",
   "metadata": {},
   "source": [
    "# Create a 3D array"
   ]
  },
  {
   "cell_type": "code",
   "execution_count": 24,
   "id": "dc5e52ab",
   "metadata": {},
   "outputs": [
    {
     "data": {
      "text/plain": [
       "array([[[0., 0., 0., 0.],\n",
       "        [0., 0., 0., 0.]],\n",
       "\n",
       "       [[0., 0., 0., 0.],\n",
       "        [0., 0., 0., 0.]],\n",
       "\n",
       "       [[0., 0., 0., 0.],\n",
       "        [0., 0., 0., 0.]]])"
      ]
     },
     "execution_count": 24,
     "metadata": {},
     "output_type": "execute_result"
    }
   ],
   "source": [
    "simple_3D = np.zeros((3,2,4))\n",
    "simple_3D"
   ]
  },
  {
   "cell_type": "code",
   "execution_count": 25,
   "id": "5ce07c63",
   "metadata": {},
   "outputs": [
    {
     "data": {
      "text/plain": [
       "3"
      ]
     },
     "execution_count": 25,
     "metadata": {},
     "output_type": "execute_result"
    }
   ],
   "source": [
    "simple_3D.ndim"
   ]
  },
  {
   "cell_type": "code",
   "execution_count": 26,
   "id": "be616b19",
   "metadata": {},
   "outputs": [
    {
     "data": {
      "text/plain": [
       "(3, 2, 3)"
      ]
     },
     "execution_count": 26,
     "metadata": {},
     "output_type": "execute_result"
    }
   ],
   "source": [
    "arr_3D = np.array([[[1,2,3],\n",
    "                   [4,5,6]],\n",
    "                   [[7,8,9],\n",
    "                   [10,11,12]],\n",
    "                   [[1,2,3],\n",
    "                   [4,5,6]],\n",
    "                  ])\n",
    "arr_3D.shape"
   ]
  },
  {
   "cell_type": "code",
   "execution_count": 27,
   "id": "591522d4",
   "metadata": {},
   "outputs": [
    {
     "ename": "IndexError",
     "evalue": "index 2 is out of bounds for axis 1 with size 2",
     "output_type": "error",
     "traceback": [
      "\u001b[1;31m---------------------------------------------------------------------------\u001b[0m",
      "\u001b[1;31mIndexError\u001b[0m                                Traceback (most recent call last)",
      "Cell \u001b[1;32mIn[27], line 3\u001b[0m\n\u001b[0;32m      1\u001b[0m X \u001b[38;5;241m=\u001b[39m arr_3D[:,\u001b[38;5;241m0\u001b[39m]  \u001b[38;5;66;03m# 1,4,7,10\u001b[39;00m\n\u001b[0;32m      2\u001b[0m Y \u001b[38;5;241m=\u001b[39m arr_3D[:,\u001b[38;5;241m1\u001b[39m]  \u001b[38;5;66;03m# 2,5,8,11\u001b[39;00m\n\u001b[1;32m----> 3\u001b[0m Z \u001b[38;5;241m=\u001b[39m \u001b[43marr_3D\u001b[49m\u001b[43m[\u001b[49m\u001b[43m:\u001b[49m\u001b[43m,\u001b[49m\u001b[38;5;241;43m2\u001b[39;49m\u001b[43m]\u001b[49m  \u001b[38;5;66;03m# 3,6,9,12\u001b[39;00m\n\u001b[0;32m      5\u001b[0m \u001b[38;5;28;01mfrom\u001b[39;00m \u001b[38;5;21;01mmpl_toolkits\u001b[39;00m\u001b[38;5;21;01m.\u001b[39;00m\u001b[38;5;21;01mmplot3d\u001b[39;00m \u001b[38;5;28;01mimport\u001b[39;00m axes3d\n\u001b[0;32m      6\u001b[0m \u001b[38;5;28;01mimport\u001b[39;00m \u001b[38;5;21;01mmatplotlib\u001b[39;00m\u001b[38;5;21;01m.\u001b[39;00m\u001b[38;5;21;01mpyplot\u001b[39;00m \u001b[38;5;28;01mas\u001b[39;00m \u001b[38;5;21;01mplt\u001b[39;00m\n",
      "\u001b[1;31mIndexError\u001b[0m: index 2 is out of bounds for axis 1 with size 2"
     ]
    }
   ],
   "source": [
    "X = arr_3D[:,0]  # 1,4,7,10\n",
    "Y = arr_3D[:,1]  # 2,5,8,11\n",
    "Z = arr_3D[:,2]  # 3,6,9,12\n",
    "\n",
    "from mpl_toolkits.mplot3d import axes3d\n",
    "import matplotlib.pyplot as plt\n",
    "fig, ax = plt.subplots(subplot_kw=dict(projection='3d'))\n",
    "ax.stem(X, Y, Z)\n",
    "plt.show()"
   ]
  },
  {
   "cell_type": "code",
   "execution_count": 35,
   "id": "9e6211a0",
   "metadata": {},
   "outputs": [
    {
     "data": {
      "text/plain": [
       "array([ 3, 10,  7, 11])"
      ]
     },
     "execution_count": 35,
     "metadata": {},
     "output_type": "execute_result"
    }
   ],
   "source": [
    "a = np.array([[2,3],[1,10],[4,7],[11,5]])\n",
    "a.max(axis=0)\n",
    "a.max(axis=1)"
   ]
  },
  {
   "cell_type": "code",
   "execution_count": 36,
   "id": "868d3461",
   "metadata": {},
   "outputs": [
    {
     "name": "stdout",
     "output_type": "stream",
     "text": [
      "The sum of first column is 18\n",
      "The max of 3rd row is 7\n"
     ]
    }
   ],
   "source": [
    "# The sum of first column is ?\n",
    "# The max of 3rd row is ?\n",
    "\n",
    "a = np.array([[2,3],[1,10],[4,7],[11,5]])\n",
    "print(f'The sum of first column is {a.sum(axis=0)[0]}')\n",
    "print(f'The max of 3rd row is {a.max(axis=1)[2]}')"
   ]
  },
  {
   "cell_type": "code",
   "execution_count": 39,
   "id": "5fb140b3",
   "metadata": {},
   "outputs": [
    {
     "name": "stdout",
     "output_type": "stream",
     "text": [
      "[ 0.  5. 10. 15. 20. 25. 30. 35. 40. 45. 50. 55. 60. 65. 70. 75. 80. 85.\n",
      " 90. 95.] 5.0\n"
     ]
    }
   ],
   "source": [
    "a, width = np.linspace(0,100,20, endpoint=False, retstep=True)\n",
    "print(a, width)"
   ]
  },
  {
   "cell_type": "code",
   "execution_count": 45,
   "id": "dc4bd429",
   "metadata": {},
   "outputs": [
    {
     "data": {
      "text/plain": [
       "[10, 9, 8, 7, 6, 5, 4, 3, 2, 1]"
      ]
     },
     "execution_count": 45,
     "metadata": {},
     "output_type": "execute_result"
    }
   ],
   "source": [
    "list(range(10,0,-1))"
   ]
  },
  {
   "cell_type": "markdown",
   "id": "65bd3835",
   "metadata": {},
   "source": [
    "# Array Operation"
   ]
  },
  {
   "cell_type": "code",
   "execution_count": null,
   "id": "2f0b572e",
   "metadata": {},
   "outputs": [],
   "source": [
    "data = np.array([[1,1,1],\n",
    "                 [2,2,2],\n",
    "                 [3,3,3]\n",
    "                ])\n",
    "data"
   ]
  },
  {
   "cell_type": "code",
   "execution_count": null,
   "id": "4c524f23",
   "metadata": {},
   "outputs": [],
   "source": [
    "data*1.5"
   ]
  },
  {
   "cell_type": "code",
   "execution_count": null,
   "id": "80e2c47f",
   "metadata": {},
   "outputs": [],
   "source": [
    "data2 = np.array([ [0.5,0.5],\n",
    "                  [0.4,0.4]  ])\n",
    "data2"
   ]
  },
  {
   "cell_type": "markdown",
   "id": "2aa4b5b8",
   "metadata": {},
   "source": [
    "# You may not operate shape with different in x-axis and y-axis, that confuse numpy/python ambiguity"
   ]
  },
  {
   "cell_type": "code",
   "execution_count": 21,
   "id": "eed652b8",
   "metadata": {},
   "outputs": [],
   "source": [
    "# data + data2\n",
    "# ValueError: operands could not be broadcast together with shapes (3,3) (2,2)"
   ]
  },
  {
   "cell_type": "code",
   "execution_count": null,
   "id": "94abcff8",
   "metadata": {},
   "outputs": [],
   "source": [
    "data3 = np.array([ [0.5,0.5,.05],\n",
    "                  [0.4,0.4,0.4]  ])\n",
    "data3"
   ]
  },
  {
   "cell_type": "code",
   "execution_count": 23,
   "id": "491a90e9",
   "metadata": {},
   "outputs": [],
   "source": [
    "# data + data3\n",
    "# ValueError: operands could not be broadcast together with shapes (3,3) (2,3)"
   ]
  },
  {
   "cell_type": "code",
   "execution_count": null,
   "id": "d8dfcde3",
   "metadata": {},
   "outputs": [],
   "source": [
    "data4 = np.array([ [0.5,0.5,.05],\n",
    "                 ])\n",
    "data4\n",
    "data4.shape"
   ]
  },
  {
   "cell_type": "code",
   "execution_count": null,
   "id": "fe084f5d",
   "metadata": {},
   "outputs": [],
   "source": [
    "data+data4"
   ]
  },
  {
   "cell_type": "code",
   "execution_count": null,
   "id": "09bf9a48",
   "metadata": {},
   "outputs": [],
   "source": [
    "data5 = np.array([ 0.1,0.1,0.1 ])\n",
    "data5\n",
    "data5.shape"
   ]
  },
  {
   "cell_type": "code",
   "execution_count": null,
   "id": "fe793a97",
   "metadata": {},
   "outputs": [],
   "source": [
    "data+data5"
   ]
  },
  {
   "cell_type": "code",
   "execution_count": null,
   "id": "c9b49786",
   "metadata": {},
   "outputs": [],
   "source": [
    "(data+data5).ndim"
   ]
  },
  {
   "cell_type": "markdown",
   "id": "e89ab1cf",
   "metadata": {},
   "source": [
    "# in-class exercise"
   ]
  },
  {
   "cell_type": "code",
   "execution_count": null,
   "id": "fa282a68",
   "metadata": {},
   "outputs": [],
   "source": [
    "data_trend = np.array([\n",
    "    [0,0],\n",
    "    [2,1],\n",
    "    [4,2],\n",
    "    [6,3]\n",
    "], dtype=float)\n",
    "\n",
    "x = data_trend[:,0]\n",
    "y = data_trend[:,1]\n",
    "print(x)\n",
    "print(y)\n",
    "\n",
    "import matplotlib.pyplot as plt\n",
    "\n",
    "plt.plot(x, y)"
   ]
  },
  {
   "cell_type": "code",
   "execution_count": null,
   "id": "0d846b94",
   "metadata": {},
   "outputs": [],
   "source": [
    "# increase y-axis (alpha) by 1\n",
    "data_trend = data_trend + 1\n",
    "print(data_trend)"
   ]
  },
  {
   "cell_type": "code",
   "execution_count": null,
   "id": "0ac42a1f",
   "metadata": {},
   "outputs": [],
   "source": [
    "# change the slope (beta) by 0.5\n",
    "data_trend = data_trend * 0.5\n",
    "print(data_trend)"
   ]
  },
  {
   "cell_type": "code",
   "execution_count": null,
   "id": "5fbdd8d4",
   "metadata": {},
   "outputs": [],
   "source": [
    "x = data_trend[:,0]\n",
    "y = data_trend[:,1]\n",
    "print(x)\n",
    "print(y)\n",
    "\n",
    "import matplotlib.pyplot as plt\n",
    "plt.plot(x, y)"
   ]
  },
  {
   "cell_type": "code",
   "execution_count": null,
   "id": "27b3704f",
   "metadata": {},
   "outputs": [],
   "source": [
    "# default float is 64, sometime you may need make it smaller for faster calculation in large size data\n",
    "data_trend.dtype"
   ]
  },
  {
   "cell_type": "markdown",
   "id": "9829ba28",
   "metadata": {},
   "source": [
    "# Common used functions"
   ]
  },
  {
   "cell_type": "code",
   "execution_count": null,
   "id": "fb90c0c9",
   "metadata": {},
   "outputs": [],
   "source": [
    "# generate evenly spaced numbers over a specified interval\n",
    "np.linspace(0,2,9) # (smallest number, largest number, total number)"
   ]
  },
  {
   "cell_type": "code",
   "execution_count": null,
   "id": "2e34f5ee",
   "metadata": {},
   "outputs": [],
   "source": [
    "# generate arrays with regularly incrementing values\n",
    "np.arange(10)"
   ]
  },
  {
   "cell_type": "code",
   "execution_count": null,
   "id": "336750f4",
   "metadata": {},
   "outputs": [],
   "source": [
    "# np.arange(start, stop, interval)\n",
    "np.arange(9, 10, 0.1)"
   ]
  },
  {
   "cell_type": "code",
   "execution_count": null,
   "id": "f8c7aaf2",
   "metadata": {},
   "outputs": [],
   "source": [
    "# generate random integer (smallest integer, largest integer, total number)\n",
    "np.random.randint(1, 100, size=10)"
   ]
  },
  {
   "cell_type": "code",
   "execution_count": null,
   "id": "5d9744eb",
   "metadata": {},
   "outputs": [],
   "source": [
    "# create array of all zero\n",
    "np.zeros((2,3))"
   ]
  },
  {
   "cell_type": "code",
   "execution_count": null,
   "id": "bdca1c13",
   "metadata": {},
   "outputs": [],
   "source": [
    "# create array of all one\n",
    "np.ones((3,2))"
   ]
  },
  {
   "cell_type": "markdown",
   "id": "15510117",
   "metadata": {},
   "source": [
    "# Arithmetic operators and functions"
   ]
  },
  {
   "cell_type": "code",
   "execution_count": null,
   "id": "ed87c0d6",
   "metadata": {},
   "outputs": [],
   "source": [
    "# floor divide\n",
    "7//2"
   ]
  },
  {
   "cell_type": "code",
   "execution_count": null,
   "id": "760281f3",
   "metadata": {},
   "outputs": [],
   "source": [
    "# modulas, remainder\n",
    "np.mod(7,2)"
   ]
  },
  {
   "cell_type": "code",
   "execution_count": null,
   "id": "34c8f58d",
   "metadata": {},
   "outputs": [],
   "source": [
    "# power\n",
    "2**3"
   ]
  },
  {
   "cell_type": "code",
   "execution_count": null,
   "id": "33ab040d",
   "metadata": {},
   "outputs": [],
   "source": [
    "# square root\n",
    "np.sqrt(9)"
   ]
  },
  {
   "cell_type": "code",
   "execution_count": null,
   "id": "770027fc",
   "metadata": {},
   "outputs": [],
   "source": [
    "# 10 logarithm of the input\n",
    "np.log10(1000)"
   ]
  },
  {
   "cell_type": "code",
   "execution_count": null,
   "id": "6c087dba",
   "metadata": {},
   "outputs": [],
   "source": [
    "# natural logarithm, element-wise.\n",
    "np.log(2.718281828459045)"
   ]
  },
  {
   "cell_type": "code",
   "execution_count": null,
   "id": "24b35420",
   "metadata": {},
   "outputs": [],
   "source": [
    "# exponential of all elements in the input\n",
    "np.exp(1)"
   ]
  },
  {
   "cell_type": "code",
   "execution_count": null,
   "id": "dff1c193",
   "metadata": {},
   "outputs": [],
   "source": [
    "np.around(3.14159265359, decimals=2, out=None)"
   ]
  },
  {
   "cell_type": "code",
   "execution_count": null,
   "id": "a99728a4",
   "metadata": {},
   "outputs": [],
   "source": [
    "# Return the ceiling of the input, element-wise\n",
    "np.ceil([3.1, 3.9, 3])"
   ]
  },
  {
   "cell_type": "code",
   "execution_count": null,
   "id": "9d80874b",
   "metadata": {},
   "outputs": [],
   "source": [
    "# Return the floor of the input, element-wise\n",
    "np.floor([3.9, 3.2, 3])"
   ]
  },
  {
   "cell_type": "code",
   "execution_count": null,
   "id": "e4be43d7",
   "metadata": {},
   "outputs": [],
   "source": [
    "# Round elements of the array to the nearest integer\n",
    "np.rint([1.1, 1.49, 1.50, 1.8])"
   ]
  },
  {
   "cell_type": "markdown",
   "id": "aad6f0f2",
   "metadata": {},
   "source": [
    "# Aggregate Functions"
   ]
  },
  {
   "cell_type": "code",
   "execution_count": null,
   "id": "1311d806",
   "metadata": {},
   "outputs": [],
   "source": [
    "arr = np.arange(0,10,0.5)\n",
    "arr"
   ]
  },
  {
   "cell_type": "code",
   "execution_count": null,
   "id": "07e73d86",
   "metadata": {},
   "outputs": [],
   "source": [
    "arr.size"
   ]
  },
  {
   "cell_type": "code",
   "execution_count": null,
   "id": "8e682050",
   "metadata": {},
   "outputs": [],
   "source": [
    "arr.sum()"
   ]
  },
  {
   "cell_type": "code",
   "execution_count": null,
   "id": "5fdddbdf",
   "metadata": {},
   "outputs": [],
   "source": [
    "arr.min()"
   ]
  },
  {
   "cell_type": "code",
   "execution_count": null,
   "id": "4bbb6a59",
   "metadata": {},
   "outputs": [],
   "source": [
    "arr.max()"
   ]
  },
  {
   "cell_type": "code",
   "execution_count": null,
   "id": "b282cab1",
   "metadata": {},
   "outputs": [],
   "source": [
    "arr.mean()"
   ]
  },
  {
   "cell_type": "code",
   "execution_count": null,
   "id": "f6ffdc7a",
   "metadata": {},
   "outputs": [],
   "source": [
    "np.median(arr)"
   ]
  },
  {
   "cell_type": "code",
   "execution_count": null,
   "id": "b646df66",
   "metadata": {},
   "outputs": [],
   "source": [
    "# Standard Deviation\n",
    "np.std(arr)"
   ]
  },
  {
   "cell_type": "markdown",
   "id": "d4b08589",
   "metadata": {},
   "source": [
    "# Structured Array"
   ]
  },
  {
   "cell_type": "code",
   "execution_count": null,
   "id": "5d239c70",
   "metadata": {},
   "outputs": [],
   "source": [
    "# create an empty array with settings\n",
    "client = np.array([('Alice','F',30,3500.5),\n",
    "    ('Ben','M',35,2800.3),],dtype=[('name', 'U10'), ('gender', 'U1'), ('age', 'i4'), ('order_amount', 'f16')])\n",
    "client"
   ]
  },
  {
   "cell_type": "code",
   "execution_count": null,
   "id": "95a2b89c",
   "metadata": {},
   "outputs": [],
   "source": [
    "client[0]"
   ]
  },
  {
   "cell_type": "code",
   "execution_count": null,
   "id": "b7d480e7",
   "metadata": {},
   "outputs": [],
   "source": [
    "type(client)"
   ]
  },
  {
   "cell_type": "code",
   "execution_count": null,
   "id": "8c33c679",
   "metadata": {},
   "outputs": [],
   "source": [
    "new_client = client.copy()\n",
    "new_client"
   ]
  },
  {
   "cell_type": "code",
   "execution_count": null,
   "id": "0b26caaf",
   "metadata": {},
   "outputs": [],
   "source": [
    "new_client[0]"
   ]
  },
  {
   "cell_type": "code",
   "execution_count": 64,
   "id": "eddcffc7",
   "metadata": {},
   "outputs": [],
   "source": [
    "new_client[0][2]=18"
   ]
  },
  {
   "cell_type": "code",
   "execution_count": null,
   "id": "0cc6aad0",
   "metadata": {},
   "outputs": [],
   "source": [
    "new_client[0]"
   ]
  },
  {
   "cell_type": "markdown",
   "id": "d31d3f8a",
   "metadata": {},
   "source": [
    "# Comparison Operator"
   ]
  },
  {
   "cell_type": "code",
   "execution_count": null,
   "id": "d6b9dded",
   "metadata": {},
   "outputs": [],
   "source": [
    "arr = np.array([1, 2, 3, 4, 5])\n",
    "arr < 3"
   ]
  },
  {
   "cell_type": "code",
   "execution_count": null,
   "id": "4b17c74b",
   "metadata": {},
   "outputs": [],
   "source": [
    "arr >= 3"
   ]
  },
  {
   "cell_type": "code",
   "execution_count": null,
   "id": "107d26bc",
   "metadata": {},
   "outputs": [],
   "source": [
    "arr != 3"
   ]
  },
  {
   "cell_type": "code",
   "execution_count": null,
   "id": "3ecef393",
   "metadata": {},
   "outputs": [],
   "source": [
    "arr == 3"
   ]
  },
  {
   "cell_type": "code",
   "execution_count": null,
   "id": "8c3a7004",
   "metadata": {},
   "outputs": [],
   "source": [
    "len(arr)"
   ]
  },
  {
   "cell_type": "code",
   "execution_count": null,
   "id": "f56725cf",
   "metadata": {},
   "outputs": [],
   "source": [
    "np.count_nonzero(arr>=2)"
   ]
  },
  {
   "cell_type": "markdown",
   "id": "927fb298",
   "metadata": {},
   "source": [
    "# Array Manipulation"
   ]
  },
  {
   "cell_type": "code",
   "execution_count": null,
   "id": "2dad2e6d",
   "metadata": {},
   "outputs": [],
   "source": [
    "arr = np.zeros([1,2])\n",
    "arr"
   ]
  },
  {
   "cell_type": "code",
   "execution_count": null,
   "id": "876380d1",
   "metadata": {},
   "outputs": [],
   "source": [
    "# Append values to the end of an array\n",
    "# numpy.append(arr, values, axis=None)\n",
    "arr = np.append(arr, [[2,2]], axis=0)\n",
    "arr"
   ]
  },
  {
   "cell_type": "code",
   "execution_count": null,
   "id": "467a9025",
   "metadata": {},
   "outputs": [],
   "source": [
    "arr = arr.flatten()\n",
    "arr"
   ]
  },
  {
   "cell_type": "code",
   "execution_count": null,
   "id": "c98014a5",
   "metadata": {},
   "outputs": [],
   "source": [
    "arr = arr.reshape([2,2])\n",
    "arr"
   ]
  },
  {
   "cell_type": "code",
   "execution_count": null,
   "id": "37adb7d5",
   "metadata": {},
   "outputs": [],
   "source": [
    "# Insert values along the given axis before the given indices.\n",
    "# numpy.insert(arr, obj, values, axis=None) , axis=0 means insert by row\n",
    "arr = np.insert(arr, [1], [1,1], axis=0)\n",
    "arr"
   ]
  },
  {
   "cell_type": "code",
   "execution_count": null,
   "id": "affb5d62",
   "metadata": {},
   "outputs": [],
   "source": [
    "# axis=0 means insert by column\n",
    "arr = np.insert(arr, [1], [3], axis=1)\n",
    "arr"
   ]
  },
  {
   "cell_type": "code",
   "execution_count": null,
   "id": "4f14c213",
   "metadata": {},
   "outputs": [],
   "source": [
    "# Join a sequence of arrays along an existing axis.\n",
    "# numpy.concatenate((a1, a2, ...), axis=0, out=None, dtype=None, casting=\"same_kind\")\n",
    "arr2 = np.array([[3,3,3]])\n",
    "arr3 = np.concatenate((arr,arr2), axis=0)\n",
    "arr3"
   ]
  },
  {
   "cell_type": "markdown",
   "id": "019a8c60",
   "metadata": {},
   "source": [
    "# np.array Conversion"
   ]
  },
  {
   "cell_type": "code",
   "execution_count": null,
   "id": "dac80067",
   "metadata": {},
   "outputs": [],
   "source": [
    "# Python list to np.array\n",
    "arr = np.array([1,2,3,4,5])\n",
    "type(arr)"
   ]
  },
  {
   "cell_type": "code",
   "execution_count": null,
   "id": "86797ccc",
   "metadata": {},
   "outputs": [],
   "source": [
    "# np.array to Python list\n",
    "p_list = arr.tolist()\n",
    "type(p_list)"
   ]
  },
  {
   "cell_type": "code",
   "execution_count": null,
   "id": "bd976606",
   "metadata": {},
   "outputs": [],
   "source": [
    "# Tuple to np.array\n",
    "arr1 = np.array((1,2,3,4,5))\n",
    "type(arr1)"
   ]
  },
  {
   "cell_type": "code",
   "execution_count": null,
   "id": "11f02fcd",
   "metadata": {},
   "outputs": [],
   "source": [
    "p_tuple = tuple(arr1)\n",
    "type(p_tuple)"
   ]
  },
  {
   "cell_type": "markdown",
   "id": "cc53297a",
   "metadata": {},
   "source": [
    "# I/O"
   ]
  },
  {
   "cell_type": "code",
   "execution_count": 83,
   "id": "2686adea",
   "metadata": {},
   "outputs": [],
   "source": [
    "arr = np.arange(10)\n",
    "\n",
    "from tempfile import TemporaryFile\n",
    "myfile = TemporaryFile()\n",
    "\n",
    "# numpy.save(file, arr, allow_pickle=True, fix_imports=True)\n",
    "np.save(myfile , arr, allow_pickle=True, fix_imports=True)"
   ]
  },
  {
   "cell_type": "code",
   "execution_count": null,
   "id": "3b984e34",
   "metadata": {},
   "outputs": [],
   "source": [
    "x = myfile.seek(0)\n",
    "np.load(myfile, allow_pickle=True)"
   ]
  },
  {
   "cell_type": "code",
   "execution_count": 85,
   "id": "6a31569b",
   "metadata": {},
   "outputs": [],
   "source": [
    "with open('test.npy', 'wb') as f:\n",
    "    np.save(f, np.array([1, 2]))\n",
    "    np.save(f, np.array([3, 4]))"
   ]
  },
  {
   "cell_type": "code",
   "execution_count": null,
   "id": "068aca13",
   "metadata": {},
   "outputs": [],
   "source": [
    "with open('test.npy', 'rb') as f:\n",
    "    a = np.load(f)\n",
    "    b = np.load(f)\n",
    "print(a, b)"
   ]
  },
  {
   "cell_type": "code",
   "execution_count": null,
   "id": "a58c050b",
   "metadata": {},
   "outputs": [],
   "source": [
    "def check_a (sentence):\n",
    "    word = sentence.split(' ')\n",
    "    if word.find('a'):\n",
    "        return True\n",
    "    \n",
    "    \n"
   ]
  }
 ],
 "metadata": {
  "kernelspec": {
   "display_name": "Python 3 (ipykernel)",
   "language": "python",
   "name": "python3"
  },
  "language_info": {
   "codemirror_mode": {
    "name": "ipython",
    "version": 3
   },
   "file_extension": ".py",
   "mimetype": "text/x-python",
   "name": "python",
   "nbconvert_exporter": "python",
   "pygments_lexer": "ipython3",
   "version": "3.9.13"
  }
 },
 "nbformat": 4,
 "nbformat_minor": 5
}
