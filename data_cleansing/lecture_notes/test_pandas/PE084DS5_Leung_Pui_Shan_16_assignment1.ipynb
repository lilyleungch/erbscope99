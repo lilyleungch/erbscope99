{
 "cells": [
  {
   "cell_type": "markdown",
   "metadata": {},
   "source": [
    "Question 1\n",
    "Create a shape (3, 4) Numpy array named arr as follow table, and format dtype as float32\n",
    "1.2\t1.4\t1.6\t1.8\n",
    "2.3\t2.5\t2.7\t2.9\n",
    "3.4\t3.6\t3.8\t4.0\n",
    "\n",
    "array([[1.2, 1.4, 1.6, 1.8],\n",
    "       [2.3, 2.5, 2.7, 2.9],\n",
    "       [3.4, 3.6, 3.8, 4. ]], dtype=float32)\n"
   ]
  },
  {
   "cell_type": "code",
   "execution_count": 63,
   "metadata": {},
   "outputs": [
    {
     "name": "stdout",
     "output_type": "stream",
     "text": [
      "[[1.2 1.4 1.6 1.8]\n",
      " [2.3 2.5 2.7 2.9]\n",
      " [3.4 3.6 3.8 4. ]]\n"
     ]
    }
   ],
   "source": [
    "import numpy as np\n",
    "arr=np.array([[1.2, 1.4, 1.6, 1.8],\n",
    "       [2.3, 2.5, 2.7, 2.9],\n",
    "       [3.4, 3.6, 3.8, 4. ]], dtype =np.float32)\n",
    "print(arr)"
   ]
  },
  {
   "cell_type": "markdown",
   "metadata": {},
   "source": [
    "Question 2\n",
    "Write code to show:\n",
    "(a)\tarr’s shape, and\n",
    "(b)\tdtype\n"
   ]
  },
  {
   "cell_type": "code",
   "execution_count": 64,
   "metadata": {},
   "outputs": [
    {
     "name": "stdout",
     "output_type": "stream",
     "text": [
      "(3, 4)\n",
      "float32\n"
     ]
    }
   ],
   "source": [
    "print(arr.shape)\n",
    "\n",
    "print(arr.dtype)"
   ]
  },
  {
   "cell_type": "markdown",
   "metadata": {},
   "source": [
    "Question 3\n",
    "Write code to calculate the square root of the arr, store the value in arr_sqrt and show the value.\n"
   ]
  },
  {
   "cell_type": "code",
   "execution_count": 65,
   "metadata": {},
   "outputs": [
    {
     "name": "stdout",
     "output_type": "stream",
     "text": [
      "[[1.0954452 1.183216  1.264911  1.3416407]\n",
      " [1.5165751 1.5811388 1.6431677 1.7029387]\n",
      " [1.8439089 1.8973665 1.9493588 2.       ]]\n"
     ]
    }
   ],
   "source": [
    "arr_sqrt=np.sqrt(arr)\n",
    "print(arr_sqrt)"
   ]
  },
  {
   "cell_type": "markdown",
   "metadata": {},
   "source": [
    "Question 4\n",
    "Create a new Boolean array named arr2, to store the Boolean value of checking arr each value is greater and equal to 2.7. \n",
    " >>> arr2\n",
    "array([[False, False, False, False],\n",
    "       [False, False,  True,  True],\n",
    "       [ True,  True,  True,  True]])"
   ]
  },
  {
   "cell_type": "code",
   "execution_count": 66,
   "metadata": {},
   "outputs": [
    {
     "name": "stdout",
     "output_type": "stream",
     "text": [
      "[array([[False, False, False, False],\n",
      "       [False, False,  True,  True],\n",
      "       [ True,  True,  True,  True]])]\n"
     ]
    }
   ],
   "source": [
    "arr2=(arr>=2.7)\n",
    "print([arr2])"
   ]
  },
  {
   "cell_type": "markdown",
   "metadata": {},
   "source": [
    "Question 5\n",
    "Multiply the arr by 3 then minus 2, store the value in arr_cal. And show the array value.\n"
   ]
  },
  {
   "cell_type": "code",
   "execution_count": 67,
   "metadata": {},
   "outputs": [
    {
     "name": "stdout",
     "output_type": "stream",
     "text": [
      "[[1.2863355 1.5496478 1.794733  2.0249224]\n",
      " [2.5497255 2.7434168 2.9295034 3.1088161]\n",
      " [3.5317268 3.6920996 3.8480763 4.       ]]\n"
     ]
    }
   ],
   "source": [
    "arr_cal = arr_sqrt*3-2\n",
    "print(arr_cal)"
   ]
  },
  {
   "cell_type": "markdown",
   "metadata": {},
   "source": [
    "Question 6\n",
    "Write code to show:\n",
    "(a)\tarr max value, and\n",
    "(b)\tarr mean value, and\n",
    "(c)\tarr standard deviation\n"
   ]
  },
  {
   "cell_type": "code",
   "execution_count": 68,
   "metadata": {},
   "outputs": [
    {
     "name": "stdout",
     "output_type": "stream",
     "text": [
      "4.0\n",
      "2.754917\n",
      "0.8892499\n"
     ]
    }
   ],
   "source": [
    "print(np.max(arr_cal))\n",
    "print(np.mean(arr_cal))\n",
    "print(np.std(arr_cal))"
   ]
  },
  {
   "cell_type": "markdown",
   "metadata": {},
   "source": [
    "Question 7\n",
    "Access the shaded two value in arr, and output their multiplication value.  \n",
    "1.2\t1.4\t1.6\t1.8\n",
    "2.3\t2.5\t2.7\t2.9\n",
    "3.4\t3.6\t3.8\t4.0\n"
   ]
  },
  {
   "cell_type": "code",
   "execution_count": 69,
   "metadata": {},
   "outputs": [
    {
     "name": "stdout",
     "output_type": "stream",
     "text": [
      "5.44\n"
     ]
    }
   ],
   "source": [
    "arr[0,2]*arr[2,0]\n",
    "print(arr[0,2]*arr[2,0])"
   ]
  },
  {
   "cell_type": "markdown",
   "metadata": {},
   "source": [
    "\n",
    "Question 8\n",
    "Write code to show the transpose of arr\n"
   ]
  },
  {
   "cell_type": "code",
   "execution_count": 70,
   "metadata": {},
   "outputs": [
    {
     "data": {
      "text/plain": [
       "array([[1.2, 2.3, 3.4],\n",
       "       [1.4, 2.5, 3.6],\n",
       "       [1.6, 2.7, 3.8],\n",
       "       [1.8, 2.9, 4. ]], dtype=float32)"
      ]
     },
     "execution_count": 70,
     "metadata": {},
     "output_type": "execute_result"
    }
   ],
   "source": [
    "arr.T"
   ]
  },
  {
   "cell_type": "markdown",
   "metadata": {},
   "source": [
    "\n",
    "Question 9\n",
    "Write code to:\n",
    "(a)\tReshape arr as (2,6) structure, and\n",
    "(b)\tFlatten arr and store the value in arr_flat\n"
   ]
  },
  {
   "cell_type": "code",
   "execution_count": 71,
   "metadata": {},
   "outputs": [],
   "source": [
    "arr.reshape(2,6)\n",
    "arr_flat= arr.flatten()\n"
   ]
  }
 ],
 "metadata": {
  "kernelspec": {
   "display_name": ".venv",
   "language": "python",
   "name": "python3"
  },
  "language_info": {
   "codemirror_mode": {
    "name": "ipython",
    "version": 3
   },
   "file_extension": ".py",
   "mimetype": "text/x-python",
   "name": "python",
   "nbconvert_exporter": "python",
   "pygments_lexer": "ipython3",
   "version": "3.9.13"
  }
 },
 "nbformat": 4,
 "nbformat_minor": 2
}
