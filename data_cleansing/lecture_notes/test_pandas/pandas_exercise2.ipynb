{
 "cells": [
  {
   "attachments": {},
   "cell_type": "markdown",
   "id": "161e62fb",
   "metadata": {},
   "source": [
    "## 1. Create a Pandas DataFrame from a dictionary\n",
    "<pre>Given Input:\n",
    "data = {'Name': ['Alice', 'Bob', 'Charlie', 'David'],\n",
    "        'Age': [25, 30, 35, 40],\n",
    "        'Salary': [50000, 70000, 90000, 110000]}\n",
    "\n",
    "Desired Output:\n",
    "    Name\t Age\tSalary\n",
    "0\tAlice\t 25\t 50000\n",
    "1\tBob\t   30\t 70000\n",
    "2\tCharlie   35\t 90000\n",
    "3\tDavid\t 40\t 110000\n",
    "</pre>"
   ]
  },
  {
   "cell_type": "markdown",
   "id": "140a9ae9",
   "metadata": {},
   "source": [
    "## 2. Load a CSV file into a Pandas DataFrame\n",
    "Given iris CSV dataset: iris.csv "
   ]
  },
  {
   "cell_type": "markdown",
   "id": "2bccd3cd",
   "metadata": {},
   "source": [
    "## 3. View the first, last and sample of 2 rows of a DataFrame\n",
    "Given the iris df above"
   ]
  },
  {
   "cell_type": "markdown",
   "id": "76eb56cf",
   "metadata": {},
   "source": [
    "## 4. Get basic information and descriptive statistics about a DataFrame\n"
   ]
  },
  {
   "cell_type": "markdown",
   "id": "c4f5414c",
   "metadata": {},
   "source": [
    "## 5. Get all statistics about a DataFrame"
   ]
  },
  {
   "cell_type": "markdown",
   "id": "7963189e",
   "metadata": {},
   "source": [
    "## 6. Select multiple columns by column name of a DataFrame\n",
    "'SepalLength','SepalWidth','Name'"
   ]
  },
  {
   "cell_type": "markdown",
   "id": "b77c0e40",
   "metadata": {},
   "source": [
    "## 7. Select multiple columns by index of a DataFrame\n",
    "0, 1, 4"
   ]
  },
  {
   "cell_type": "markdown",
   "id": "3d6f0d79",
   "metadata": {},
   "source": [
    "## 8. Select a subset of rows and columns of a DataFrame\n",
    "\n",
    "The top 2 rows with columns 0, 1, 4\n",
    "The last 2 rows with columns 0, 1, 4"
   ]
  },
  {
   "cell_type": "markdown",
   "id": "db994c9e",
   "metadata": {},
   "source": [
    "## 9. Filter a DataFrame by condition\n",
    "Filter all PetalLength > 6.4"
   ]
  },
  {
   "cell_type": "markdown",
   "id": "b54ac751",
   "metadata": {},
   "source": [
    "## 10. Filter a DataFrame by condition\n",
    "Filter all PetalLength > 6.4 and PetalWidth > 2.1"
   ]
  },
  {
   "cell_type": "markdown",
   "id": "74a35596",
   "metadata": {},
   "source": [
    "## 11. Sort a DataFrame by a column\n",
    "\n",
    "Sprt the DataFrame by SepalLength in Ascending order"
   ]
  },
  {
   "cell_type": "markdown",
   "id": "dca82ce3",
   "metadata": {},
   "source": [
    "## 12. Sort a DataFrame by multiple column\n",
    "\n",
    "Sprt the DataFrame by SepalLength and SepalWidth in Descending order"
   ]
  },
  {
   "cell_type": "markdown",
   "id": "0cfd53eb",
   "metadata": {},
   "source": [
    "## 13. Group a DataFrame by a column and calculate mean \n",
    "Group DataFrame using a mapper or by a Series of columns\n",
    "\n",
    "Group Dataframe by name and calculate mean, median, std"
   ]
  },
  {
   "cell_type": "markdown",
   "id": "e3744026",
   "metadata": {},
   "source": [
    "## 14. Add a new column to a DataFrame\n",
    "\n",
    "Add a new column called 'Volume' with the formula: Volume = pi * SepalWidth^2 * PetalLength"
   ]
  },
  {
   "cell_type": "markdown",
   "id": "efcf7ca3",
   "metadata": {},
   "source": [
    "## 15. Rename an existing column\n",
    "\n",
    "Rename the column 'Name' to 'Species'"
   ]
  },
  {
   "cell_type": "markdown",
   "id": "33d2f6f8",
   "metadata": {},
   "source": [
    "## 16. Drop a column\n",
    "\n",
    "Drop the column 'Volume' from iris DF"
   ]
  },
  {
   "cell_type": "markdown",
   "id": "3752f587",
   "metadata": {},
   "source": [
    "## 17. Data cleaning - dropna, fillna\n",
    "<pre>Given Input:\n",
    "data = {'Name': ['Alice', 'Bob', 'Charlie', 'David', 'Elle'],\n",
    "        'Salary': [50000, 70000, 60000, 90000, np.NaN]}\n",
    "payroll = pd.DataFrame(data)\n",
    "\n",
    "Requirement:\n",
    "1. Drop NaN\n",
    "2. Fill NaN with zero\n",
    "3. Fill NaN with mean\n",
    "4. Fill NaN with median</pre>"
   ]
  },
  {
   "cell_type": "markdown",
   "id": "c03001d4",
   "metadata": {},
   "source": [
    "## 18. Find the unique value and number of unique value\n",
    "<pre>In Iris DF, find :\n",
    "1. Unique Iris species names\n",
    "2. How many kinds of species\n",
    "3. How many sample in each species</pre>"
   ]
  },
  {
   "cell_type": "markdown",
   "id": "fe74080d",
   "metadata": {},
   "source": [
    "## 19. Replace values in a DataFrame\n",
    "<pre>Change the Species names in iris DF:\n",
    "Given Input:\n",
    "df['Species'].unique()\n",
    "$> ['Iris-setosa', 'Iris-versicolor', 'Iris-virginica']\n",
    "\n",
    "Desired Output:\n",
    "df['Species'].unique()\n",
    "$> ['Setosa', 'Versicolor', 'Virginica']</pre>"
   ]
  },
  {
   "cell_type": "markdown",
   "id": "74efbeaf",
   "metadata": {},
   "source": [
    "## 20. Replace values where the condition is False\n",
    "<pre>Let's assume a species is large if its SepalLength is bigger\n",
    "than mean. Create a new column 'LargeSpecies' and fill with \n",
    "Boolean to identify if the species belong to LargeSpecies.\n",
    "\n",
    "You may create a column to fill with False first.\n",
    "$> df.loc[df.index, 'LargeSpecies'] = False\n",
    "</pre>"
   ]
  },
  {
   "cell_type": "markdown",
   "id": "f861b0ec",
   "metadata": {},
   "source": [
    "## 21. Replace values where the condition is True\n",
    "<pre>df.mask() is the opposite of df.where()\n",
    "df.mask(cond, other) will replace value with other if cond is True.\n",
    "\n",
    "Let's create another column\n",
    "df.loc[df.index, 'SmallSpecies'] = False\n",
    "Replace the Boolean to True if 'SepalLength' smaller and equal\n",
    "to mean.\n",
    "</pre>"
   ]
  },
  {
   "cell_type": "markdown",
   "id": "c041aa94",
   "metadata": {},
   "source": [
    "## 22. Fill values with numpy.where\n",
    "<pre>Requirement:\n",
    "1. Create new column 'SampleSize'\n",
    "2. Fill it 'Large' if SepalLength > mean, else 'Small'.\n",
    "\n",
    "Given Input:\n",
    "Drop column 'LargeSpecies' and 'SmallSpecies'\n",
    "df = df.drop(['LargeSpecies','SmallSpecies'], axis=1)\n",
    "\n",
    "Desired Output:\n",
    "\n",
    "</pre>"
   ]
  },
  {
   "cell_type": "markdown",
   "id": "09a4eda6",
   "metadata": {},
   "source": [
    "## 23. Change DataFrame column postion"
   ]
  },
  {
   "cell_type": "markdown",
   "id": "ca20b381",
   "metadata": {},
   "source": [
    "## 24. Apply a function on a column\n",
    "Let's change the data in SampleSize field to Uppercase\n",
    "\n",
    "Use apply lambda function on a column\n",
    "lambda x: x.upper()\n",
    "\n"
   ]
  },
  {
   "cell_type": "markdown",
   "id": "06a109f2",
   "metadata": {},
   "source": [
    "## 25. Map dict or function on a column\n",
    "\n",
    "Use .map - dictionary {'small': 'Small Iris', 'large': 'Large Iris'}"
   ]
  },
  {
   "cell_type": "markdown",
   "id": "af016173",
   "metadata": {},
   "source": [
    "## 26. Applymap on multiple column or whole DF\n",
    "\n",
    "Use .applymap \n",
    "lambda x: f'{x:.3f}'"
   ]
  }
 ],
 "metadata": {
  "kernelspec": {
   "display_name": "Python 3 (ipykernel)",
   "language": "python",
   "name": "python3"
  },
  "language_info": {
   "codemirror_mode": {
    "name": "ipython",
    "version": 3
   },
   "file_extension": ".py",
   "mimetype": "text/x-python",
   "name": "python",
   "nbconvert_exporter": "python",
   "pygments_lexer": "ipython3",
   "version": "3.9.13"
  }
 },
 "nbformat": 4,
 "nbformat_minor": 5
}
